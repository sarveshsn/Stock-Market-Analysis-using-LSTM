{
 "cells": [
  {
   "cell_type": "code",
   "execution_count": 50,
   "id": "66e053bf",
   "metadata": {},
   "outputs": [],
   "source": [
    "# Prediction of Apple stock with help of data over the last 60 days"
   ]
  },
  {
   "cell_type": "code",
   "execution_count": 156,
   "id": "3402ed5d",
   "metadata": {},
   "outputs": [],
   "source": [
    "#importing libraries\n",
    "import math\n",
    "import pandas\n",
    "import pandas_datareader as web\n",
    "import numpy as np\n",
    "from sklearn.preprocessing import MinMaxScaler\n",
    "from keras.models import Sequential\n",
    "from keras.layers import Dense, LSTM\n",
    "import matplotlib.pyplot as plt\n",
    "plt.style.use('fivethirtyeight')\n"
   ]
  },
  {
   "cell_type": "code",
   "execution_count": 157,
   "id": "7f227bde",
   "metadata": {},
   "outputs": [],
   "source": [
    "#Get the stock quote\n",
    "df = web.DataReader('AAPL', data_source='yahoo',start='2012-01-01', end='2020-12-31' )"
   ]
  },
  {
   "cell_type": "code",
   "execution_count": 158,
   "id": "b1e9cfa3",
   "metadata": {},
   "outputs": [
    {
     "data": {
      "text/html": [
       "<div>\n",
       "<style scoped>\n",
       "    .dataframe tbody tr th:only-of-type {\n",
       "        vertical-align: middle;\n",
       "    }\n",
       "\n",
       "    .dataframe tbody tr th {\n",
       "        vertical-align: top;\n",
       "    }\n",
       "\n",
       "    .dataframe thead th {\n",
       "        text-align: right;\n",
       "    }\n",
       "</style>\n",
       "<table border=\"1\" class=\"dataframe\">\n",
       "  <thead>\n",
       "    <tr style=\"text-align: right;\">\n",
       "      <th></th>\n",
       "      <th>High</th>\n",
       "      <th>Low</th>\n",
       "      <th>Open</th>\n",
       "      <th>Close</th>\n",
       "      <th>Volume</th>\n",
       "      <th>Adj Close</th>\n",
       "    </tr>\n",
       "    <tr>\n",
       "      <th>Date</th>\n",
       "      <th></th>\n",
       "      <th></th>\n",
       "      <th></th>\n",
       "      <th></th>\n",
       "      <th></th>\n",
       "      <th></th>\n",
       "    </tr>\n",
       "  </thead>\n",
       "  <tbody>\n",
       "    <tr>\n",
       "      <th>2012-01-03</th>\n",
       "      <td>14.732143</td>\n",
       "      <td>14.607143</td>\n",
       "      <td>14.621429</td>\n",
       "      <td>14.686786</td>\n",
       "      <td>302220800.0</td>\n",
       "      <td>12.591936</td>\n",
       "    </tr>\n",
       "    <tr>\n",
       "      <th>2012-01-04</th>\n",
       "      <td>14.810000</td>\n",
       "      <td>14.617143</td>\n",
       "      <td>14.642857</td>\n",
       "      <td>14.765714</td>\n",
       "      <td>260022000.0</td>\n",
       "      <td>12.659611</td>\n",
       "    </tr>\n",
       "    <tr>\n",
       "      <th>2012-01-05</th>\n",
       "      <td>14.948214</td>\n",
       "      <td>14.738214</td>\n",
       "      <td>14.819643</td>\n",
       "      <td>14.929643</td>\n",
       "      <td>271269600.0</td>\n",
       "      <td>12.800155</td>\n",
       "    </tr>\n",
       "    <tr>\n",
       "      <th>2012-01-06</th>\n",
       "      <td>15.098214</td>\n",
       "      <td>14.972143</td>\n",
       "      <td>14.991786</td>\n",
       "      <td>15.085714</td>\n",
       "      <td>318292800.0</td>\n",
       "      <td>12.933966</td>\n",
       "    </tr>\n",
       "    <tr>\n",
       "      <th>2012-01-09</th>\n",
       "      <td>15.276786</td>\n",
       "      <td>15.048214</td>\n",
       "      <td>15.196429</td>\n",
       "      <td>15.061786</td>\n",
       "      <td>394024400.0</td>\n",
       "      <td>12.913451</td>\n",
       "    </tr>\n",
       "    <tr>\n",
       "      <th>...</th>\n",
       "      <td>...</td>\n",
       "      <td>...</td>\n",
       "      <td>...</td>\n",
       "      <td>...</td>\n",
       "      <td>...</td>\n",
       "      <td>...</td>\n",
       "    </tr>\n",
       "    <tr>\n",
       "      <th>2020-12-24</th>\n",
       "      <td>133.460007</td>\n",
       "      <td>131.100006</td>\n",
       "      <td>131.320007</td>\n",
       "      <td>131.970001</td>\n",
       "      <td>54930100.0</td>\n",
       "      <td>131.161407</td>\n",
       "    </tr>\n",
       "    <tr>\n",
       "      <th>2020-12-28</th>\n",
       "      <td>137.339996</td>\n",
       "      <td>133.509995</td>\n",
       "      <td>133.990005</td>\n",
       "      <td>136.690002</td>\n",
       "      <td>124486200.0</td>\n",
       "      <td>135.852493</td>\n",
       "    </tr>\n",
       "    <tr>\n",
       "      <th>2020-12-29</th>\n",
       "      <td>138.789993</td>\n",
       "      <td>134.339996</td>\n",
       "      <td>138.050003</td>\n",
       "      <td>134.869995</td>\n",
       "      <td>121047300.0</td>\n",
       "      <td>134.043655</td>\n",
       "    </tr>\n",
       "    <tr>\n",
       "      <th>2020-12-30</th>\n",
       "      <td>135.990005</td>\n",
       "      <td>133.399994</td>\n",
       "      <td>135.580002</td>\n",
       "      <td>133.720001</td>\n",
       "      <td>96452100.0</td>\n",
       "      <td>132.900696</td>\n",
       "    </tr>\n",
       "    <tr>\n",
       "      <th>2020-12-31</th>\n",
       "      <td>134.740005</td>\n",
       "      <td>131.720001</td>\n",
       "      <td>134.080002</td>\n",
       "      <td>132.690002</td>\n",
       "      <td>99116600.0</td>\n",
       "      <td>131.877014</td>\n",
       "    </tr>\n",
       "  </tbody>\n",
       "</table>\n",
       "<p>2265 rows × 6 columns</p>\n",
       "</div>"
      ],
      "text/plain": [
       "                  High         Low        Open       Close       Volume  \\\n",
       "Date                                                                      \n",
       "2012-01-03   14.732143   14.607143   14.621429   14.686786  302220800.0   \n",
       "2012-01-04   14.810000   14.617143   14.642857   14.765714  260022000.0   \n",
       "2012-01-05   14.948214   14.738214   14.819643   14.929643  271269600.0   \n",
       "2012-01-06   15.098214   14.972143   14.991786   15.085714  318292800.0   \n",
       "2012-01-09   15.276786   15.048214   15.196429   15.061786  394024400.0   \n",
       "...                ...         ...         ...         ...          ...   \n",
       "2020-12-24  133.460007  131.100006  131.320007  131.970001   54930100.0   \n",
       "2020-12-28  137.339996  133.509995  133.990005  136.690002  124486200.0   \n",
       "2020-12-29  138.789993  134.339996  138.050003  134.869995  121047300.0   \n",
       "2020-12-30  135.990005  133.399994  135.580002  133.720001   96452100.0   \n",
       "2020-12-31  134.740005  131.720001  134.080002  132.690002   99116600.0   \n",
       "\n",
       "             Adj Close  \n",
       "Date                    \n",
       "2012-01-03   12.591936  \n",
       "2012-01-04   12.659611  \n",
       "2012-01-05   12.800155  \n",
       "2012-01-06   12.933966  \n",
       "2012-01-09   12.913451  \n",
       "...                ...  \n",
       "2020-12-24  131.161407  \n",
       "2020-12-28  135.852493  \n",
       "2020-12-29  134.043655  \n",
       "2020-12-30  132.900696  \n",
       "2020-12-31  131.877014  \n",
       "\n",
       "[2265 rows x 6 columns]"
      ]
     },
     "execution_count": 158,
     "metadata": {},
     "output_type": "execute_result"
    }
   ],
   "source": [
    "df"
   ]
  },
  {
   "cell_type": "code",
   "execution_count": 159,
   "id": "ab894efc",
   "metadata": {},
   "outputs": [
    {
     "data": {
      "text/plain": [
       "(2265, 6)"
      ]
     },
     "execution_count": 159,
     "metadata": {},
     "output_type": "execute_result"
    }
   ],
   "source": [
    "#Get the no. of rows and col in the data set\n",
    "df.shape"
   ]
  },
  {
   "cell_type": "code",
   "execution_count": 161,
   "id": "dd44815d",
   "metadata": {},
   "outputs": [
    {
     "data": {
      "text/plain": [
       "Text(0, 0.5, 'Close Price USD ($)')"
      ]
     },
     "execution_count": 161,
     "metadata": {},
     "output_type": "execute_result"
    },
    {
     "data": {
      "image/png": "[encoded data removed]",
      "text/plain": [
       "<Figure size 1152x576 with 1 Axes>"
      ]
     },
     "metadata": {},
     "output_type": "display_data"
    }
   ],
   "source": [
    "#Visualize the closing price history\n",
    "plt.figure(figsize=(16,8))\n",
    "plt.title('Close price history')\n",
    "plt.plot(df['Close'])\n",
    "plt.xlabel('Date',fontsize=18)\n",
    "plt.ylabel('Close Price USD ($)',fontsize=18)"
   ]
  },
  {
   "cell_type": "code",
   "execution_count": 162,
   "id": "5ed7db00",
   "metadata": {},
   "outputs": [],
   "source": [
    "#Create new dataframe with only the \"close\" column\n",
    "data= df.filter(['Close'])\n",
    "#Convert the dataframe to numy array\n",
    "dataset = data.values\n",
    "#Get the number of rows to train the model on\n",
    "training_data_len= math.ceil( len(dataset)* .8)"
   ]
  },
  {
   "cell_type": "code",
   "execution_count": 163,
   "id": "0660e93a",
   "metadata": {},
   "outputs": [
    {
     "data": {
      "text/plain": [
       "1812"
      ]
     },
     "execution_count": 163,
     "metadata": {},
     "output_type": "execute_result"
    }
   ],
   "source": [
    "training_data_len"
   ]
  },
  {
   "cell_type": "code",
   "execution_count": 164,
   "id": "0d513c22",
   "metadata": {},
   "outputs": [
    {
     "data": {
      "text/plain": [
       "array([[0.00602306],\n",
       "       [0.0066661 ],\n",
       "       [0.00800165],\n",
       "       ...,\n",
       "       [0.98517215],\n",
       "       [0.97580299],\n",
       "       [0.96741145]])"
      ]
     },
     "execution_count": 164,
     "metadata": {},
     "output_type": "execute_result"
    }
   ],
   "source": [
    "#Scaling the data for preproccesing \n",
    "scaler = MinMaxScaler(feature_range=(0,1))\n",
    "scaled_data = scaler.fit_transform(dataset)\n",
    "\n",
    "scaled_data"
   ]
  },
  {
   "cell_type": "code",
   "execution_count": 165,
   "id": "ad51c11f",
   "metadata": {},
   "outputs": [
    {
     "name": "stdout",
     "output_type": "stream",
     "text": [
      "[array([0.00602306, 0.0066661 , 0.00800165, 0.00927319, 0.00907824,\n",
      "       0.0095176 , 0.00931683, 0.0089793 , 0.00851957, 0.00994242,\n",
      "       0.01122559, 0.01082987, 0.00866214, 0.01073094, 0.00869416,\n",
      "       0.0163321 , 0.01574144, 0.0165125 , 0.01817975, 0.01918941,\n",
      "       0.01910503, 0.0187937 , 0.02012052, 0.02136877, 0.02278289,\n",
      "       0.025067  , 0.02986508, 0.02993782, 0.03260892, 0.03460496,\n",
      "       0.03117444, 0.03249544, 0.03246925, 0.03617329, 0.03564663,\n",
      "       0.03662137, 0.03837301, 0.03934777, 0.04215562, 0.04420112,\n",
      "       0.04479179, 0.04499838, 0.04150094, 0.04065712, 0.04078224,\n",
      "       0.0440702 , 0.04499548, 0.0469828 , 0.0516674 , 0.05791742,\n",
      "       0.05674772, 0.05675062, 0.06126938, 0.0626835 , 0.06167673,\n",
      "       0.06075728, 0.05979999, 0.06298027, 0.06516255, 0.06607619])]\n",
      "[0.06381826722571945]\n",
      "\n"
     ]
    }
   ],
   "source": [
    "#Create the training data\n",
    "#Create the scaled training data set\n",
    "train_data= scaled_data[0:training_data_len, :]\n",
    "#Spit the data into x_train and y_train datasets\n",
    "x_train=[]\n",
    "y_train=[]\n",
    "\n",
    "for i in range(60, len(train_data)):\n",
    "    x_train.append(train_data[i-60:i, 0])\n",
    "    y_train.append(train_data[i,0])\n",
    "    if i<=60:\n",
    "        print(x_train)\n",
    "        print(y_train)\n",
    "        print()"
   ]
  },
  {
   "cell_type": "code",
   "execution_count": 166,
   "id": "2a306dbd",
   "metadata": {},
   "outputs": [],
   "source": [
    "#Convert the x_train and y_train to numpy arrays\n",
    "x_train, y_train = np.array(x_train), np.array(y_train)"
   ]
  },
  {
   "cell_type": "code",
   "execution_count": 167,
   "id": "fe5fbabd",
   "metadata": {},
   "outputs": [
    {
     "data": {
      "text/plain": [
       "(1752, 60, 1)"
      ]
     },
     "execution_count": 167,
     "metadata": {},
     "output_type": "execute_result"
    }
   ],
   "source": [
    "#Reshape the data\n",
    "#LSTM data need to be 3D\n",
    "x_train= np.reshape(x_train,(x_train.shape[0],x_train.shape[1], 1))\n",
    "x_train.shape"
   ]
  },
  {
   "cell_type": "code",
   "execution_count": 168,
   "id": "16a0fe78",
   "metadata": {},
   "outputs": [],
   "source": [
    "#Build LSTM model\n",
    "model= Sequential()\n",
    "model.add(LSTM(50, return_sequences=True, input_shape=(x_train.shape[1],1)))\n",
    "model.add(LSTM(50, return_sequences=False))\n",
    "model.add(Dense(25))\n",
    "model.add(Dense(1))"
   ]
  },
  {
   "cell_type": "code",
   "execution_count": 169,
   "id": "2cd03eb1",
   "metadata": {},
   "outputs": [],
   "source": [
    "#Compile the model\n",
    "model.compile(optimizer='adam',loss='mean_squared_error')"
   ]
  },
  {
   "cell_type": "code",
   "execution_count": 170,
   "id": "fedf08a2",
   "metadata": {},
   "outputs": [
    {
     "name": "stdout",
     "output_type": "stream",
     "text": [
      "1752/1752 [==============================] - 26s 14ms/step - loss: 2.5960e-04\n"
     ]
    },
    {
     "data": {
      "text/plain": [
       "<keras.callbacks.History at 0x1f1e0cdfdf0>"
      ]
     },
     "execution_count": 170,
     "metadata": {},
     "output_type": "execute_result"
    }
   ],
   "source": [
    "#Train the model\n",
    "model.fit(x_train, y_train , batch_size=1, epochs=1)"
   ]
  },
  {
   "cell_type": "code",
   "execution_count": 171,
   "id": "2e758496",
   "metadata": {},
   "outputs": [],
   "source": [
    "#Create the testing dataset\n",
    "#Create a new array containing scaled values from index 1712 \n",
    "test_data= scaled_data[training_data_len - 60: , :]\n",
    "#Create the data sets x_test and y_test\n",
    "x_test= []\n",
    "y_test = dataset[training_data_len:, :]\n",
    "for i in range(60, len(test_data)):\n",
    "    x_test.append(test_data[i-60:i,0])"
   ]
  },
  {
   "cell_type": "code",
   "execution_count": 172,
   "id": "8cfa221f",
   "metadata": {},
   "outputs": [],
   "source": [
    "#Convert the data to a numpy array\n",
    "x_test = np.array(x_test)"
   ]
  },
  {
   "cell_type": "code",
   "execution_count": 173,
   "id": "4e6bc712",
   "metadata": {},
   "outputs": [],
   "source": [
    "x_test=np.reshape(x_test,(x_test.shape[0],x_test.shape[1], 1))"
   ]
  },
  {
   "cell_type": "code",
   "execution_count": 174,
   "id": "cfd248c8",
   "metadata": {},
   "outputs": [],
   "source": [
    "#Get the models predicted price values\n",
    "predictions = model.predict(x_test)\n",
    "predictions = scaler.inverse_transform(predictions)"
   ]
  },
  {
   "cell_type": "code",
   "execution_count": 175,
   "id": "e2d814c2",
   "metadata": {},
   "outputs": [
    {
     "data": {
      "text/plain": [
       "4.467038539861211"
      ]
     },
     "execution_count": 175,
     "metadata": {},
     "output_type": "execute_result"
    }
   ],
   "source": [
    "#Get the root mean squared error(RMSE)\n",
    "rmse = np.sqrt(np.mean(predictions - y_test )**2 )\n",
    "rmse"
   ]
  },
  {
   "cell_type": "code",
   "execution_count": 176,
   "id": "5f34d74d",
   "metadata": {},
   "outputs": [
    {
     "name": "stderr",
     "output_type": "stream",
     "text": [
      "<ipython-input-176-8c4dddbd1619>:4: SettingWithCopyWarning: \n",
      "A value is trying to be set on a copy of a slice from a DataFrame.\n",
      "Try using .loc[row_indexer,col_indexer] = value instead\n",
      "\n",
      "See the caveats in the documentation: https://pandas.pydata.org/pandas-docs/stable/user_guide/indexing.html#returning-a-view-versus-a-copy\n",
      "  valid['Predictions'] = predictions\n"
     ]
    },
    {
     "data": {
      "image/png": "[encoded data removed]",
      "text/plain": [
       "<Figure size 1152x576 with 1 Axes>"
      ]
     },
     "metadata": {},
     "output_type": "display_data"
    }
   ],
   "source": [
    "#PLot the data\n",
    "train= data[:training_data_len]\n",
    "valid = data[training_data_len:]\n",
    "valid['Predictions'] = predictions\n",
    "\n",
    "#Visualize the data\n",
    "plt.figure(figsize=(16,8))\n",
    "plt.title('Model')\n",
    "plt.xlabel('Date', fontsize=18)\n",
    "plt.ylabel('Close Price USD ($)', fontsize=18)\n",
    "plt.plot(train['Close'])\n",
    "plt.plot(valid[['Close','Predictions']])\n",
    "plt.legend(['Train','Val','Predictions'], loc='lower right')\n",
    "plt.show()"
   ]
  },
  {
   "cell_type": "code",
   "execution_count": 177,
   "id": "af6dff71",
   "metadata": {},
   "outputs": [
    {
     "data": {
      "text/html": [
       "<div>\n",
       "<style scoped>\n",
       "    .dataframe tbody tr th:only-of-type {\n",
       "        vertical-align: middle;\n",
       "    }\n",
       "\n",
       "    .dataframe tbody tr th {\n",
       "        vertical-align: top;\n",
       "    }\n",
       "\n",
       "    .dataframe thead th {\n",
       "        text-align: right;\n",
       "    }\n",
       "</style>\n",
       "<table border=\"1\" class=\"dataframe\">\n",
       "  <thead>\n",
       "    <tr style=\"text-align: right;\">\n",
       "      <th></th>\n",
       "      <th>Close</th>\n",
       "      <th>Predictions</th>\n",
       "    </tr>\n",
       "    <tr>\n",
       "      <th>Date</th>\n",
       "      <th></th>\n",
       "      <th></th>\n",
       "    </tr>\n",
       "  </thead>\n",
       "  <tbody>\n",
       "    <tr>\n",
       "      <th>2019-03-19</th>\n",
       "      <td>46.632500</td>\n",
       "      <td>49.378876</td>\n",
       "    </tr>\n",
       "    <tr>\n",
       "      <th>2019-03-20</th>\n",
       "      <td>47.040001</td>\n",
       "      <td>49.774734</td>\n",
       "    </tr>\n",
       "    <tr>\n",
       "      <th>2019-03-21</th>\n",
       "      <td>48.772499</td>\n",
       "      <td>50.128647</td>\n",
       "    </tr>\n",
       "    <tr>\n",
       "      <th>2019-03-22</th>\n",
       "      <td>47.762501</td>\n",
       "      <td>50.639523</td>\n",
       "    </tr>\n",
       "    <tr>\n",
       "      <th>2019-03-25</th>\n",
       "      <td>47.185001</td>\n",
       "      <td>51.037823</td>\n",
       "    </tr>\n",
       "    <tr>\n",
       "      <th>...</th>\n",
       "      <td>...</td>\n",
       "      <td>...</td>\n",
       "    </tr>\n",
       "    <tr>\n",
       "      <th>2020-12-24</th>\n",
       "      <td>131.970001</td>\n",
       "      <td>133.708328</td>\n",
       "    </tr>\n",
       "    <tr>\n",
       "      <th>2020-12-28</th>\n",
       "      <td>136.690002</td>\n",
       "      <td>134.549347</td>\n",
       "    </tr>\n",
       "    <tr>\n",
       "      <th>2020-12-29</th>\n",
       "      <td>134.869995</td>\n",
       "      <td>135.896835</td>\n",
       "    </tr>\n",
       "    <tr>\n",
       "      <th>2020-12-30</th>\n",
       "      <td>133.720001</td>\n",
       "      <td>137.003983</td>\n",
       "    </tr>\n",
       "    <tr>\n",
       "      <th>2020-12-31</th>\n",
       "      <td>132.690002</td>\n",
       "      <td>137.701996</td>\n",
       "    </tr>\n",
       "  </tbody>\n",
       "</table>\n",
       "<p>453 rows × 2 columns</p>\n",
       "</div>"
      ],
      "text/plain": [
       "                 Close  Predictions\n",
       "Date                               \n",
       "2019-03-19   46.632500    49.378876\n",
       "2019-03-20   47.040001    49.774734\n",
       "2019-03-21   48.772499    50.128647\n",
       "2019-03-22   47.762501    50.639523\n",
       "2019-03-25   47.185001    51.037823\n",
       "...                ...          ...\n",
       "2020-12-24  131.970001   133.708328\n",
       "2020-12-28  136.690002   134.549347\n",
       "2020-12-29  134.869995   135.896835\n",
       "2020-12-30  133.720001   137.003983\n",
       "2020-12-31  132.690002   137.701996\n",
       "\n",
       "[453 rows x 2 columns]"
      ]
     },
     "execution_count": 177,
     "metadata": {},
     "output_type": "execute_result"
    }
   ],
   "source": [
    "#Show the valid(actual) and predicted prices\n",
    "valid\n"
   ]
  },
  {
   "cell_type": "code",
   "execution_count": 178,
   "id": "2c85bec0",
   "metadata": {},
   "outputs": [
    {
     "name": "stdout",
     "output_type": "stream",
     "text": [
      "[[137.97269]]\n"
     ]
    }
   ],
   "source": [
    "#Get the quote\n",
    "apple_quote= web.DataReader('AAPL',data_source='yahoo',start='2012-01-01',end='2020-12-31')\n",
    "#Create a new dataframe\n",
    "new_df = apple_quote.filter(['Close'])\n",
    "#Get the last 60 days closing price values and convert the dataframe to an array\n",
    "last_60_days= new_df[-60:].values\n",
    "#Scale the data to be values between 0 and 1\n",
    "last_60_days_scaled= scaler.transform(last_60_days)\n",
    "#Create an empty list\n",
    "X_test=[]\n",
    "#Append the past 60 days\n",
    "X_test.append(last_60_days_scaled)\n",
    "#Convert the X_test data set to a numpy array\n",
    "X_test = np.array(X_test)\n",
    "#Reshape the data\n",
    "X_test = np.reshape(X_test,(X_test.shape[0], X_test.shape[1],1))\n",
    "#Get the predicted scaled price\n",
    "pred_price = model.predict(X_test)\n",
    "#undo the scaling\n",
    "pred_price = scaler.inverse_transform(pred_price)\n",
    "print(pred_price)"
   ]
  },
  {
   "cell_type": "code",
   "execution_count": 179,
   "id": "92805a15",
   "metadata": {},
   "outputs": [
    {
     "name": "stdout",
     "output_type": "stream",
     "text": [
      "Date\n",
      "2012-01-03     14.686786\n",
      "2012-01-04     14.765714\n",
      "2012-01-05     14.929643\n",
      "2012-01-06     15.085714\n",
      "2012-01-09     15.061786\n",
      "                 ...    \n",
      "2020-12-28    136.690002\n",
      "2020-12-29    134.869995\n",
      "2020-12-30    133.720001\n",
      "2020-12-31    132.690002\n",
      "2021-01-04    129.410004\n",
      "Name: Close, Length: 2266, dtype: float64\n"
     ]
    }
   ],
   "source": [
    "#Get the quote\n",
    "apple_quote2= web.DataReader('AAPL',data_source='yahoo',start='2012-01-01',end='2021-01-04')\n",
    "print(apple_quote2['Close'])"
   ]
  },
  {
   "cell_type": "code",
   "execution_count": null,
   "id": "0917aff6",
   "metadata": {},
   "outputs": [],
   "source": []
  }
 ],
 "metadata": {
  "kernelspec": {
   "display_name": "Python 3",
   "language": "python",
   "name": "python3"
  },
  "language_info": {
   "codemirror_mode": {
    "name": "ipython",
    "version": 3
   },
   "file_extension": ".py",
   "mimetype": "text/x-python",
   "name": "python",
   "nbconvert_exporter": "python",
   "pygments_lexer": "ipython3",
   "version": "3.8.8"
  }
 },
 "nbformat": 4,
 "nbformat_minor": 5
}

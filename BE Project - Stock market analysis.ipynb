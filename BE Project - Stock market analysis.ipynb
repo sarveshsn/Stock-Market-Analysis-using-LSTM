{
 "cells": [
  {
   "cell_type": "code",
   "execution_count": 48,
   "id": "2693a9eb",
   "metadata": {},
   "outputs": [],
   "source": [
    "import numpy as np\n",
    "import pandas as pd\n",
    "import seaborn as sns\n",
    "import matplotlib.pyplot as plt\n",
    "from nsepy import get_history\n",
    "%matplotlib inline\n",
    "from datetime import date, timedelta, datetime"
   ]
  },
  {
   "cell_type": "code",
   "execution_count": 49,
   "id": "bb1b3cdb",
   "metadata": {},
   "outputs": [],
   "source": [
    "# Initialising the number of years of training data to be downloaded from NSE\n",
    "training_no_of_years = 12\n",
    "# Initialising start and end dates for stock data download\n",
    "start_date = date.today() - timedelta(days = 365*training_no_of_years + training_no_of_years//4) #adjusting no of days for leap years in between\n",
    "end_date = date.today()"
   ]
  },
  {
   "cell_type": "code",
   "execution_count": 50,
   "id": "8daff2dc",
   "metadata": {},
   "outputs": [
    {
     "data": {
      "text/plain": [
       "<AxesSubplot:xlabel='Date'>"
      ]
     },
     "execution_count": 50,
     "metadata": {},
     "output_type": "execute_result"
    },
    {
     "data": {
      "image/png": "[encoded data removed]",
      "text/plain": [
       "<Figure size 432x288 with 2 Axes>"
      ]
     },
     "metadata": {
      "needs_background": "light"
     },
     "output_type": "display_data"
    }
   ],
   "source": [
    "# Stock selected is State Bank of India (NSE: SBIN), the largest bank in India and one of the most liquid stocks\n",
    "stockdf = get_history(symbol = 'SBIN', start = start_date, end = end_date)\n",
    "stockdf[['Close', 'Turnover']].plot(secondary_y='Turnover')"
   ]
  },
  {
   "cell_type": "code",
   "execution_count": 51,
   "id": "84ade0fc",
   "metadata": {},
   "outputs": [],
   "source": [
    "stockdf = stockdf.drop(['Trades', 'Turnover'], axis=1)"
   ]
  },
  {
   "cell_type": "code",
   "execution_count": 52,
   "id": "c8870752",
   "metadata": {},
   "outputs": [
    {
     "data": {
      "text/html": [
       "<div>\n",
       "<style scoped>\n",
       "    .dataframe tbody tr th:only-of-type {\n",
       "        vertical-align: middle;\n",
       "    }\n",
       "\n",
       "    .dataframe tbody tr th {\n",
       "        vertical-align: top;\n",
       "    }\n",
       "\n",
       "    .dataframe thead th {\n",
       "        text-align: right;\n",
       "    }\n",
       "</style>\n",
       "<table border=\"1\" class=\"dataframe\">\n",
       "  <thead>\n",
       "    <tr style=\"text-align: right;\">\n",
       "      <th></th>\n",
       "      <th>Symbol</th>\n",
       "      <th>Series</th>\n",
       "      <th>Prev Close</th>\n",
       "      <th>Open</th>\n",
       "      <th>High</th>\n",
       "      <th>Low</th>\n",
       "      <th>Last</th>\n",
       "      <th>Close</th>\n",
       "      <th>VWAP</th>\n",
       "      <th>Volume</th>\n",
       "      <th>Deliverable Volume</th>\n",
       "      <th>%Deliverble</th>\n",
       "    </tr>\n",
       "    <tr>\n",
       "      <th>Date</th>\n",
       "      <th></th>\n",
       "      <th></th>\n",
       "      <th></th>\n",
       "      <th></th>\n",
       "      <th></th>\n",
       "      <th></th>\n",
       "      <th></th>\n",
       "      <th></th>\n",
       "      <th></th>\n",
       "      <th></th>\n",
       "      <th></th>\n",
       "      <th></th>\n",
       "    </tr>\n",
       "  </thead>\n",
       "  <tbody>\n",
       "    <tr>\n",
       "      <th>2021-11-08</th>\n",
       "      <td>SBIN</td>\n",
       "      <td>EQ</td>\n",
       "      <td>530.45</td>\n",
       "      <td>534.45</td>\n",
       "      <td>534.45</td>\n",
       "      <td>516.45</td>\n",
       "      <td>523.6</td>\n",
       "      <td>523.25</td>\n",
       "      <td>524.29</td>\n",
       "      <td>36802110</td>\n",
       "      <td>13809608</td>\n",
       "      <td>0.3752</td>\n",
       "    </tr>\n",
       "    <tr>\n",
       "      <th>2021-11-09</th>\n",
       "      <td>SBIN</td>\n",
       "      <td>EQ</td>\n",
       "      <td>523.25</td>\n",
       "      <td>526.25</td>\n",
       "      <td>532.00</td>\n",
       "      <td>522.20</td>\n",
       "      <td>529.0</td>\n",
       "      <td>529.15</td>\n",
       "      <td>528.31</td>\n",
       "      <td>25451967</td>\n",
       "      <td>10868864</td>\n",
       "      <td>0.4270</td>\n",
       "    </tr>\n",
       "    <tr>\n",
       "      <th>2021-11-10</th>\n",
       "      <td>SBIN</td>\n",
       "      <td>EQ</td>\n",
       "      <td>529.15</td>\n",
       "      <td>525.55</td>\n",
       "      <td>528.50</td>\n",
       "      <td>521.50</td>\n",
       "      <td>523.7</td>\n",
       "      <td>524.40</td>\n",
       "      <td>524.92</td>\n",
       "      <td>15805538</td>\n",
       "      <td>6661421</td>\n",
       "      <td>0.4215</td>\n",
       "    </tr>\n",
       "  </tbody>\n",
       "</table>\n",
       "</div>"
      ],
      "text/plain": [
       "           Symbol Series  Prev Close    Open    High     Low   Last   Close  \\\n",
       "Date                                                                          \n",
       "2021-11-08   SBIN     EQ      530.45  534.45  534.45  516.45  523.6  523.25   \n",
       "2021-11-09   SBIN     EQ      523.25  526.25  532.00  522.20  529.0  529.15   \n",
       "2021-11-10   SBIN     EQ      529.15  525.55  528.50  521.50  523.7  524.40   \n",
       "\n",
       "              VWAP    Volume  Deliverable Volume  %Deliverble  \n",
       "Date                                                           \n",
       "2021-11-08  524.29  36802110            13809608       0.3752  \n",
       "2021-11-09  528.31  25451967            10868864       0.4270  \n",
       "2021-11-10  524.92  15805538             6661421       0.4215  "
      ]
     },
     "execution_count": 52,
     "metadata": {},
     "output_type": "execute_result"
    }
   ],
   "source": [
    "stockdf.tail(3)"
   ]
  },
  {
   "cell_type": "code",
   "execution_count": 53,
   "id": "d4e21c66",
   "metadata": {},
   "outputs": [
    {
     "data": {
      "text/html": [
       "<div>\n",
       "<style scoped>\n",
       "    .dataframe tbody tr th:only-of-type {\n",
       "        vertical-align: middle;\n",
       "    }\n",
       "\n",
       "    .dataframe tbody tr th {\n",
       "        vertical-align: top;\n",
       "    }\n",
       "\n",
       "    .dataframe thead th {\n",
       "        text-align: right;\n",
       "    }\n",
       "</style>\n",
       "<table border=\"1\" class=\"dataframe\">\n",
       "  <thead>\n",
       "    <tr style=\"text-align: right;\">\n",
       "      <th></th>\n",
       "      <th>Prev Close</th>\n",
       "      <th>Open</th>\n",
       "      <th>High</th>\n",
       "      <th>Low</th>\n",
       "      <th>Last</th>\n",
       "      <th>Close</th>\n",
       "      <th>VWAP</th>\n",
       "      <th>Volume</th>\n",
       "      <th>Deliverable Volume</th>\n",
       "      <th>%Deliverble</th>\n",
       "    </tr>\n",
       "  </thead>\n",
       "  <tbody>\n",
       "    <tr>\n",
       "      <th>count</th>\n",
       "      <td>2980.000000</td>\n",
       "      <td>2980.000000</td>\n",
       "      <td>2980.000000</td>\n",
       "      <td>2980.000000</td>\n",
       "      <td>2980.000000</td>\n",
       "      <td>2980.000000</td>\n",
       "      <td>2980.000000</td>\n",
       "      <td>2.980000e+03</td>\n",
       "      <td>2.980000e+03</td>\n",
       "      <td>2980.000000</td>\n",
       "    </tr>\n",
       "    <tr>\n",
       "      <th>mean</th>\n",
       "      <td>1098.693272</td>\n",
       "      <td>1099.396477</td>\n",
       "      <td>1113.594128</td>\n",
       "      <td>1083.981963</td>\n",
       "      <td>1097.857215</td>\n",
       "      <td>1098.078742</td>\n",
       "      <td>1099.024594</td>\n",
       "      <td>1.746150e+07</td>\n",
       "      <td>4.935789e+06</td>\n",
       "      <td>0.312675</td>\n",
       "    </tr>\n",
       "    <tr>\n",
       "      <th>std</th>\n",
       "      <td>994.172670</td>\n",
       "      <td>994.961581</td>\n",
       "      <td>1007.455425</td>\n",
       "      <td>981.617927</td>\n",
       "      <td>993.634870</td>\n",
       "      <td>993.971152</td>\n",
       "      <td>994.750804</td>\n",
       "      <td>2.243628e+07</td>\n",
       "      <td>6.000052e+06</td>\n",
       "      <td>0.102498</td>\n",
       "    </tr>\n",
       "    <tr>\n",
       "      <th>min</th>\n",
       "      <td>150.850000</td>\n",
       "      <td>151.950000</td>\n",
       "      <td>153.200000</td>\n",
       "      <td>148.250000</td>\n",
       "      <td>151.100000</td>\n",
       "      <td>150.850000</td>\n",
       "      <td>151.820000</td>\n",
       "      <td>8.841100e+04</td>\n",
       "      <td>1.799700e+04</td>\n",
       "      <td>0.083700</td>\n",
       "    </tr>\n",
       "    <tr>\n",
       "      <th>25%</th>\n",
       "      <td>268.537500</td>\n",
       "      <td>268.900000</td>\n",
       "      <td>272.000000</td>\n",
       "      <td>265.637500</td>\n",
       "      <td>268.787500</td>\n",
       "      <td>268.537500</td>\n",
       "      <td>268.857500</td>\n",
       "      <td>2.139100e+06</td>\n",
       "      <td>6.758570e+05</td>\n",
       "      <td>0.236000</td>\n",
       "    </tr>\n",
       "    <tr>\n",
       "      <th>50%</th>\n",
       "      <td>338.175000</td>\n",
       "      <td>338.450000</td>\n",
       "      <td>344.175000</td>\n",
       "      <td>333.450000</td>\n",
       "      <td>338.400000</td>\n",
       "      <td>338.175000</td>\n",
       "      <td>338.900000</td>\n",
       "      <td>1.143689e+07</td>\n",
       "      <td>3.496605e+06</td>\n",
       "      <td>0.303700</td>\n",
       "    </tr>\n",
       "    <tr>\n",
       "      <th>75%</th>\n",
       "      <td>2117.950000</td>\n",
       "      <td>2124.225000</td>\n",
       "      <td>2149.150000</td>\n",
       "      <td>2093.912500</td>\n",
       "      <td>2115.500000</td>\n",
       "      <td>2117.150000</td>\n",
       "      <td>2124.850000</td>\n",
       "      <td>2.259668e+07</td>\n",
       "      <td>7.097378e+06</td>\n",
       "      <td>0.381400</td>\n",
       "    </tr>\n",
       "    <tr>\n",
       "      <th>max</th>\n",
       "      <td>3489.950000</td>\n",
       "      <td>3505.000000</td>\n",
       "      <td>3515.000000</td>\n",
       "      <td>3451.350000</td>\n",
       "      <td>3499.000000</td>\n",
       "      <td>3489.950000</td>\n",
       "      <td>3485.250000</td>\n",
       "      <td>2.626771e+08</td>\n",
       "      <td>1.333311e+08</td>\n",
       "      <td>0.716200</td>\n",
       "    </tr>\n",
       "  </tbody>\n",
       "</table>\n",
       "</div>"
      ],
      "text/plain": [
       "        Prev Close         Open         High          Low         Last  \\\n",
       "count  2980.000000  2980.000000  2980.000000  2980.000000  2980.000000   \n",
       "mean   1098.693272  1099.396477  1113.594128  1083.981963  1097.857215   \n",
       "std     994.172670   994.961581  1007.455425   981.617927   993.634870   \n",
       "min     150.850000   151.950000   153.200000   148.250000   151.100000   \n",
       "25%     268.537500   268.900000   272.000000   265.637500   268.787500   \n",
       "50%     338.175000   338.450000   344.175000   333.450000   338.400000   \n",
       "75%    2117.950000  2124.225000  2149.150000  2093.912500  2115.500000   \n",
       "max    3489.950000  3505.000000  3515.000000  3451.350000  3499.000000   \n",
       "\n",
       "             Close         VWAP        Volume  Deliverable Volume  %Deliverble  \n",
       "count  2980.000000  2980.000000  2.980000e+03        2.980000e+03  2980.000000  \n",
       "mean   1098.078742  1099.024594  1.746150e+07        4.935789e+06     0.312675  \n",
       "std     993.971152   994.750804  2.243628e+07        6.000052e+06     0.102498  \n",
       "min     150.850000   151.820000  8.841100e+04        1.799700e+04     0.083700  \n",
       "25%     268.537500   268.857500  2.139100e+06        6.758570e+05     0.236000  \n",
       "50%     338.175000   338.900000  1.143689e+07        3.496605e+06     0.303700  \n",
       "75%    2117.150000  2124.850000  2.259668e+07        7.097378e+06     0.381400  \n",
       "max    3489.950000  3485.250000  2.626771e+08        1.333311e+08     0.716200  "
      ]
     },
     "execution_count": 53,
     "metadata": {},
     "output_type": "execute_result"
    }
   ],
   "source": [
    "stockdf.describe() # result shows that the stock data is not adjusted for a 1:10 split\n"
   ]
  },
  {
   "cell_type": "code",
   "execution_count": 54,
   "id": "73bdefdf",
   "metadata": {},
   "outputs": [],
   "source": [
    "#Adjusting stock closing prices for splits of 1:10\n",
    "stockdf['Close'] = stockdf['Close'].apply(lambda x:x/10 if x>1000 else x)"
   ]
  },
  {
   "cell_type": "code",
   "execution_count": 55,
   "id": "30735a4e",
   "metadata": {},
   "outputs": [],
   "source": [
    "# Forming a 2-d array of closing prices to be fed into RNN\n",
    "# We take the last 20 day prices in the test data (corresponding roughly to 1 calendar month)\n",
    "trend_test_days = 20\n",
    "training_set = stockdf.iloc[:len(stockdf)-trend_test_days,7:8].values\n"
   ]
  },
  {
   "cell_type": "code",
   "execution_count": 56,
   "id": "880b7212",
   "metadata": {},
   "outputs": [
    {
     "data": {
      "text/plain": [
       "(array([[237.825],\n",
       "        [229.365],\n",
       "        [229.99 ],\n",
       "        ...,\n",
       "        [457.9  ],\n",
       "        [458.   ],\n",
       "        [469.25 ]]),\n",
       " 2960)"
      ]
     },
     "execution_count": 56,
     "metadata": {},
     "output_type": "execute_result"
    }
   ],
   "source": [
    "training_set, len(training_set)\n"
   ]
  },
  {
   "cell_type": "code",
   "execution_count": 57,
   "id": "b7fc5978",
   "metadata": {},
   "outputs": [],
   "source": [
    "# Using normalisation to scale data, as RNN uses distance between data points to train \n",
    "from sklearn.preprocessing import MinMaxScaler\n",
    "scaler = MinMaxScaler(feature_range = (0,1))\n",
    "training_set_scaled = scaler.fit_transform(training_set)"
   ]
  },
  {
   "cell_type": "code",
   "execution_count": 58,
   "id": "fe0c60e0",
   "metadata": {},
   "outputs": [],
   "source": [
    "# The recurrent neural network with long short term memory (LSTM) will use a timestep of 120 trading days as memory\n",
    "# Creating the data structure which preserves 120 days of memory\n",
    "X_train = [] #initiate training lists\n",
    "y_train = []\n",
    "memory_range = 120\n",
    "for i in range(memory_range, len(training_set_scaled)):\n",
    "    X_train.append(training_set_scaled[(i - memory_range):i,0])\n",
    "    y_train.append(training_set_scaled[i,0])\n",
    "\n",
    "#Convert the lists to numpy arrays\n",
    "X_train, y_train = np.array(X_train), np.array(y_train)"
   ]
  },
  {
   "cell_type": "code",
   "execution_count": 59,
   "id": "502de6bf",
   "metadata": {},
   "outputs": [
    {
     "data": {
      "text/plain": [
       "((2840, 120), (2840,))"
      ]
     },
     "execution_count": 59,
     "metadata": {},
     "output_type": "execute_result"
    }
   ],
   "source": [
    "X_train.shape, y_train.shape"
   ]
  },
  {
   "cell_type": "code",
   "execution_count": 60,
   "id": "0454512a",
   "metadata": {},
   "outputs": [
    {
     "data": {
      "text/plain": [
       "(2840, 120, 1)"
      ]
     },
     "execution_count": 60,
     "metadata": {},
     "output_type": "execute_result"
    }
   ],
   "source": [
    "# reshape the x_train array to fit the shape expected by RNN algorithm\n",
    "X_train = np.reshape(X_train, (X_train.shape[0], X_train.shape[1], 1))\n",
    "X_train.shape"
   ]
  },
  {
   "cell_type": "code",
   "execution_count": 61,
   "id": "30331f7d",
   "metadata": {},
   "outputs": [],
   "source": [
    "# Importing the RNN libraries and classes\n",
    "from keras.models import Sequential\n",
    "from keras.layers import Dense\n",
    "from keras.layers import LSTM\n",
    "from keras.layers import Dropout"
   ]
  },
  {
   "cell_type": "code",
   "execution_count": 62,
   "id": "17d59c08",
   "metadata": {},
   "outputs": [],
   "source": [
    "#Initialise the regressor object of class Sequential\n",
    "regressor = Sequential()"
   ]
  },
  {
   "cell_type": "code",
   "execution_count": 63,
   "id": "616135b9",
   "metadata": {},
   "outputs": [],
   "source": [
    "#Building the RNN architecture with dropout regularisation\n",
    "regressor.add(LSTM(units = 50, activation = 'tanh', return_sequences = True, input_shape = (X_train.shape[1],1)))\n",
    "regressor.add(Dropout(0.2))\n",
    "regressor.add(LSTM(units = 50, activation = 'tanh', return_sequences = True))\n",
    "regressor.add(Dropout(0.2))\n",
    "regressor.add(LSTM(units = 50, activation = 'tanh', return_sequences = True))\n",
    "regressor.add(Dropout(0.2))\n",
    "regressor.add(LSTM(units = 50, activation = 'tanh', return_sequences = False)) # last LSTM layer should have return sequence as False\n",
    "regressor.add(Dropout(0.2))\n",
    "#Adding the output layer\n",
    "regressor.add(Dense(units = 1))"
   ]
  },
  {
   "cell_type": "code",
   "execution_count": 64,
   "id": "88dc40a3",
   "metadata": {},
   "outputs": [],
   "source": [
    "#Compile the recurrent neural network\n",
    "regressor.compile(optimizer = 'adam', loss = 'mean_squared_error')"
   ]
  },
  {
   "cell_type": "code",
   "execution_count": 65,
   "id": "14b34a52",
   "metadata": {},
   "outputs": [
    {
     "name": "stdout",
     "output_type": "stream",
     "text": [
      "Epoch 1/100\n",
      "89/89 [==============================] - 23s 192ms/step - loss: 0.0109\n",
      "Epoch 2/100\n",
      "89/89 [==============================] - 17s 186ms/step - loss: 0.0047\n",
      "Epoch 3/100\n",
      "89/89 [==============================] - 16s 177ms/step - loss: 0.0041\n",
      "Epoch 4/100\n",
      "89/89 [==============================] - 16s 180ms/step - loss: 0.0036\n",
      "Epoch 5/100\n",
      "89/89 [==============================] - 16s 182ms/step - loss: 0.0034\n",
      "Epoch 6/100\n",
      "89/89 [==============================] - 16s 178ms/step - loss: 0.0030\n",
      "Epoch 7/100\n",
      "89/89 [==============================] - 16s 179ms/step - loss: 0.0028\n",
      "Epoch 8/100\n",
      "89/89 [==============================] - 18s 202ms/step - loss: 0.0024\n",
      "Epoch 9/100\n",
      "89/89 [==============================] - 17s 188ms/step - loss: 0.0024\n",
      "Epoch 10/100\n",
      "89/89 [==============================] - 17s 186ms/step - loss: 0.0022\n",
      "Epoch 11/100\n",
      "89/89 [==============================] - 16s 180ms/step - loss: 0.0022\n",
      "Epoch 12/100\n",
      "89/89 [==============================] - 15s 168ms/step - loss: 0.0023\n",
      "Epoch 13/100\n",
      "89/89 [==============================] - 15s 166ms/step - loss: 0.0018\n",
      "Epoch 14/100\n",
      "89/89 [==============================] - 15s 166ms/step - loss: 0.0018\n",
      "Epoch 15/100\n",
      "89/89 [==============================] - 15s 165ms/step - loss: 0.0017\n",
      "Epoch 16/100\n",
      "89/89 [==============================] - 15s 167ms/step - loss: 0.0017\n",
      "Epoch 17/100\n",
      "89/89 [==============================] - 15s 168ms/step - loss: 0.0016\n",
      "Epoch 18/100\n",
      "89/89 [==============================] - 15s 166ms/step - loss: 0.0016\n",
      "Epoch 19/100\n",
      "89/89 [==============================] - 15s 168ms/step - loss: 0.0015\n",
      "Epoch 20/100\n",
      "89/89 [==============================] - 14s 157ms/step - loss: 0.0016\n",
      "Epoch 21/100\n",
      "89/89 [==============================] - 14s 158ms/step - loss: 0.0015\n",
      "Epoch 22/100\n",
      "89/89 [==============================] - 14s 155ms/step - loss: 0.0014\n",
      "Epoch 23/100\n",
      "89/89 [==============================] - 14s 157ms/step - loss: 0.0015\n",
      "Epoch 24/100\n",
      "89/89 [==============================] - 14s 156ms/step - loss: 0.0013\n",
      "Epoch 25/100\n",
      "89/89 [==============================] - 14s 160ms/step - loss: 0.0013\n",
      "Epoch 26/100\n",
      "89/89 [==============================] - 14s 158ms/step - loss: 0.0012\n",
      "Epoch 27/100\n",
      "89/89 [==============================] - 15s 164ms/step - loss: 0.0013\n",
      "Epoch 28/100\n",
      "89/89 [==============================] - 16s 180ms/step - loss: 0.0012\n",
      "Epoch 29/100\n",
      "89/89 [==============================] - 16s 181ms/step - loss: 0.0011\n",
      "Epoch 30/100\n",
      "89/89 [==============================] - 16s 178ms/step - loss: 0.0011\n",
      "Epoch 31/100\n",
      "89/89 [==============================] - 16s 180ms/step - loss: 0.0011\n",
      "Epoch 32/100\n",
      "89/89 [==============================] - 16s 183ms/step - loss: 0.0010\n",
      "Epoch 33/100\n",
      "89/89 [==============================] - 16s 181ms/step - loss: 0.0010\n",
      "Epoch 34/100\n",
      "89/89 [==============================] - 16s 179ms/step - loss: 0.0010\n",
      "Epoch 35/100\n",
      "89/89 [==============================] - 16s 179ms/step - loss: 9.9679e-04\n",
      "Epoch 36/100\n",
      "89/89 [==============================] - 16s 183ms/step - loss: 0.0011\n",
      "Epoch 37/100\n",
      "89/89 [==============================] - 17s 195ms/step - loss: 0.0010\n",
      "Epoch 38/100\n",
      "89/89 [==============================] - 16s 184ms/step - loss: 0.0010\n",
      "Epoch 39/100\n",
      "89/89 [==============================] - 16s 185ms/step - loss: 9.6854e-04\n",
      "Epoch 40/100\n",
      "89/89 [==============================] - 16s 185ms/step - loss: 8.9734e-04\n",
      "Epoch 41/100\n",
      "89/89 [==============================] - 17s 186ms/step - loss: 8.8516e-04\n",
      "Epoch 42/100\n",
      "89/89 [==============================] - 16s 183ms/step - loss: 8.2633e-04\n",
      "Epoch 43/100\n",
      "89/89 [==============================] - 17s 186ms/step - loss: 8.5701e-04\n",
      "Epoch 44/100\n",
      "89/89 [==============================] - 17s 187ms/step - loss: 8.9962e-04\n",
      "Epoch 45/100\n",
      "89/89 [==============================] - 16s 183ms/step - loss: 8.3420e-04\n",
      "Epoch 46/100\n",
      "89/89 [==============================] - 16s 185ms/step - loss: 9.2204e-04\n",
      "Epoch 47/100\n",
      "89/89 [==============================] - 17s 193ms/step - loss: 0.0010\n",
      "Epoch 48/100\n",
      "89/89 [==============================] - 20s 221ms/step - loss: 8.6616e-04\n",
      "Epoch 49/100\n",
      "89/89 [==============================] - 20s 228ms/step - loss: 8.3273e-04\n",
      "Epoch 50/100\n",
      "89/89 [==============================] - 20s 226ms/step - loss: 8.3059e-04\n",
      "Epoch 51/100\n",
      "89/89 [==============================] - 20s 227ms/step - loss: 8.3979e-04\n",
      "Epoch 52/100\n",
      "89/89 [==============================] - 22s 245ms/step - loss: 7.9703e-04\n",
      "Epoch 53/100\n",
      "89/89 [==============================] - 19s 215ms/step - loss: 7.8755e-04\n",
      "Epoch 54/100\n",
      "89/89 [==============================] - 19s 212ms/step - loss: 7.7551e-04\n",
      "Epoch 55/100\n",
      "89/89 [==============================] - 20s 220ms/step - loss: 7.9990e-04\n",
      "Epoch 56/100\n",
      "89/89 [==============================] - 19s 215ms/step - loss: 7.4624e-04\n",
      "Epoch 57/100\n",
      "89/89 [==============================] - 19s 214ms/step - loss: 7.9221e-04\n",
      "Epoch 58/100\n",
      "89/89 [==============================] - 19s 218ms/step - loss: 8.0418e-04\n",
      "Epoch 59/100\n",
      "89/89 [==============================] - 20s 220ms/step - loss: 7.5046e-04\n",
      "Epoch 60/100\n",
      "89/89 [==============================] - 19s 215ms/step - loss: 8.0045e-04\n",
      "Epoch 61/100\n",
      "89/89 [==============================] - 19s 218ms/step - loss: 8.1254e-04\n",
      "Epoch 62/100\n",
      "89/89 [==============================] - 19s 215ms/step - loss: 7.7508e-04\n",
      "Epoch 63/100\n",
      "89/89 [==============================] - 19s 215ms/step - loss: 8.5242e-04\n",
      "Epoch 64/100\n",
      "89/89 [==============================] - 19s 215ms/step - loss: 8.1185e-04\n",
      "Epoch 65/100\n",
      "89/89 [==============================] - 20s 222ms/step - loss: 8.2628e-04\n",
      "Epoch 66/100\n",
      "89/89 [==============================] - 20s 224ms/step - loss: 7.7367e-04\n",
      "Epoch 67/100\n",
      "89/89 [==============================] - 18s 198ms/step - loss: 7.8827e-04\n",
      "Epoch 68/100\n",
      "89/89 [==============================] - 18s 197ms/step - loss: 7.4994e-04\n",
      "Epoch 69/100\n",
      "89/89 [==============================] - 17s 196ms/step - loss: 7.4486e-04\n",
      "Epoch 70/100\n",
      "89/89 [==============================] - 18s 198ms/step - loss: 7.5269e-04\n",
      "Epoch 71/100\n",
      "89/89 [==============================] - 17s 195ms/step - loss: 8.0020e-04\n",
      "Epoch 72/100\n",
      "89/89 [==============================] - 17s 196ms/step - loss: 7.0679e-041s - loss: 7.0381e- - ETA: 0s - loss: 7.02\n",
      "Epoch 73/100\n",
      "89/89 [==============================] - 18s 200ms/step - loss: 6.8012e-043s - \n",
      "Epoch 74/100\n",
      "89/89 [==============================] - 18s 199ms/step - loss: 7.1348e-04\n",
      "Epoch 75/100\n",
      "89/89 [==============================] - 18s 197ms/step - loss: 7.4926e-04\n",
      "Epoch 76/100\n",
      "89/89 [==============================] - 18s 201ms/step - loss: 7.0576e-04\n",
      "Epoch 77/100\n",
      "89/89 [==============================] - 18s 198ms/step - loss: 7.2900e-04\n",
      "Epoch 78/100\n",
      "89/89 [==============================] - 18s 201ms/step - loss: 8.6384e-04\n",
      "Epoch 79/100\n",
      "89/89 [==============================] - 21s 236ms/step - loss: 7.5692e-04\n",
      "Epoch 80/100\n",
      "89/89 [==============================] - 18s 203ms/step - loss: 7.3239e-04\n",
      "Epoch 81/100\n",
      "89/89 [==============================] - 22s 242ms/step - loss: 7.3988e-04\n",
      "Epoch 82/100\n",
      "89/89 [==============================] - 21s 233ms/step - loss: 8.0182e-04\n",
      "Epoch 83/100\n",
      "89/89 [==============================] - 21s 231ms/step - loss: 7.5616e-04\n",
      "Epoch 84/100\n",
      "89/89 [==============================] - 23s 256ms/step - loss: 7.2546e-04\n",
      "Epoch 85/100\n",
      "89/89 [==============================] - 23s 253ms/step - loss: 7.4459e-04\n",
      "Epoch 86/100\n",
      "89/89 [==============================] - 21s 239ms/step - loss: 7.7455e-04\n",
      "Epoch 87/100\n",
      "89/89 [==============================] - 16s 182ms/step - loss: 7.5959e-04\n",
      "Epoch 88/100\n",
      "89/89 [==============================] - 16s 180ms/step - loss: 7.0084e-04\n",
      "Epoch 89/100\n",
      "89/89 [==============================] - 16s 181ms/step - loss: 7.5888e-04\n",
      "Epoch 90/100\n",
      "89/89 [==============================] - 15s 170ms/step - loss: 7.2164e-04\n",
      "Epoch 91/100\n",
      "89/89 [==============================] - 15s 174ms/step - loss: 7.5385e-04\n",
      "Epoch 92/100\n",
      "89/89 [==============================] - 16s 180ms/step - loss: 7.5593e-04\n",
      "Epoch 93/100\n",
      "89/89 [==============================] - 18s 204ms/step - loss: 7.4141e-04\n",
      "Epoch 94/100\n",
      "89/89 [==============================] - 19s 211ms/step - loss: 7.0466e-04\n",
      "Epoch 95/100\n"
     ]
    },
    {
     "name": "stdout",
     "output_type": "stream",
     "text": [
      "89/89 [==============================] - 18s 198ms/step - loss: 6.9433e-04\n",
      "Epoch 96/100\n",
      "89/89 [==============================] - 15s 172ms/step - loss: 6.8977e-04\n",
      "Epoch 97/100\n",
      "89/89 [==============================] - 17s 187ms/step - loss: 7.6492e-04\n",
      "Epoch 98/100\n",
      "89/89 [==============================] - 17s 194ms/step - loss: 7.0517e-04\n",
      "Epoch 99/100\n",
      "89/89 [==============================] - 17s 190ms/step - loss: 7.1445e-04\n",
      "Epoch 100/100\n",
      "89/89 [==============================] - 17s 187ms/step - loss: 8.2086e-04\n"
     ]
    },
    {
     "data": {
      "text/plain": [
       "<keras.callbacks.History at 0x1ccf95b7130>"
      ]
     },
     "execution_count": 65,
     "metadata": {},
     "output_type": "execute_result"
    }
   ],
   "source": [
    "#Fitting the RNN model on training data\n",
    "regressor.fit(X_train, y_train, batch_size = 32, epochs = 100)"
   ]
  },
  {
   "cell_type": "code",
   "execution_count": 66,
   "id": "61bc510d",
   "metadata": {},
   "outputs": [
    {
     "data": {
      "text/plain": [
       "(140, 1)"
      ]
     },
     "execution_count": 66,
     "metadata": {},
     "output_type": "execute_result"
    }
   ],
   "source": [
    "test_set = stockdf.iloc[len(stockdf) - memory_range - trend_test_days:,7:8].values\n",
    "test_set = scaler.transform(test_set)\n",
    "test_set.shape"
   ]
  },
  {
   "cell_type": "code",
   "execution_count": 67,
   "id": "f07e4060",
   "metadata": {},
   "outputs": [],
   "source": [
    "# preparing the test input data structure\n",
    "X_test = []\n",
    "for i in range(memory_range, memory_range + trend_test_days):\n",
    "    X_test.append(test_set[i - memory_range:i, 0])\n",
    "X_test = np.array(X_test)"
   ]
  },
  {
   "cell_type": "code",
   "execution_count": 68,
   "id": "6cf3cf4e",
   "metadata": {},
   "outputs": [
    {
     "data": {
      "text/plain": [
       "(20, 120, 1)"
      ]
     },
     "execution_count": 68,
     "metadata": {},
     "output_type": "execute_result"
    }
   ],
   "source": [
    "X_test = np.reshape(X_test,(X_test.shape[0],X_test.shape[1],1))\n",
    "X_test.shape"
   ]
  },
  {
   "cell_type": "code",
   "execution_count": 69,
   "id": "e0d315b6",
   "metadata": {},
   "outputs": [],
   "source": [
    "# Predict stock prices for the last 20 days\n",
    "predicted_stock_prices = regressor.predict(X_test)\n",
    "predicted_stock_prices = scaler.inverse_transform(predicted_stock_prices)"
   ]
  },
  {
   "cell_type": "code",
   "execution_count": 70,
   "id": "61e9fef6",
   "metadata": {},
   "outputs": [
    {
     "data": {
      "text/plain": [
       "((20, 1), (20, 1))"
      ]
     },
     "execution_count": 70,
     "metadata": {},
     "output_type": "execute_result"
    }
   ],
   "source": [
    "# Get actual stock prices for comparison of trend prediction\n",
    "actual_stock_prices = stockdf.iloc[len(stockdf) - trend_test_days:,7:8].values\n",
    "actual_stock_prices.shape, predicted_stock_prices.shape"
   ]
  },
  {
   "cell_type": "code",
   "execution_count": 71,
   "id": "b53e5f09",
   "metadata": {},
   "outputs": [],
   "source": [
    "# Get data in dataframe format with added accuracy measures\n",
    "final_stock_pred = pd.DataFrame(data = actual_stock_prices, columns = ['actual_stock_prices'])\n",
    "final_stock_pred = pd.concat((final_stock_pred, pd.DataFrame(data = predicted_stock_prices, columns = ['predicted_stock_prices'])), axis=1)"
   ]
  },
  {
   "cell_type": "code",
   "execution_count": 72,
   "id": "c8bb0d70",
   "metadata": {},
   "outputs": [
    {
     "name": "stderr",
     "output_type": "stream",
     "text": [
      "<ipython-input-72-7d46325dd514>:5: SettingWithCopyWarning: \n",
      "A value is trying to be set on a copy of a slice from a DataFrame\n",
      "\n",
      "See the caveats in the documentation: https://pandas.pydata.org/pandas-docs/stable/user_guide/indexing.html#returning-a-view-versus-a-copy\n",
      "  final_stock_pred['actual_change'][i+1] = ((final_stock_pred['actual_stock_prices'][i+1]) - (final_stock_pred['actual_stock_prices'][i]))/final_stock_pred['actual_stock_prices'].mean()\n",
      "<ipython-input-72-7d46325dd514>:6: SettingWithCopyWarning: \n",
      "A value is trying to be set on a copy of a slice from a DataFrame\n",
      "\n",
      "See the caveats in the documentation: https://pandas.pydata.org/pandas-docs/stable/user_guide/indexing.html#returning-a-view-versus-a-copy\n",
      "  final_stock_pred['predicted_change'][i+1] = ((final_stock_pred['predicted_stock_prices'][i+1]) - (final_stock_pred['predicted_stock_prices'][i]))/final_stock_pred['predicted_stock_prices'].mean()\n"
     ]
    }
   ],
   "source": [
    "final_stock_pred['actual_change'] = np.zeros(len(final_stock_pred))\n",
    "final_stock_pred['predicted_change'] = np.zeros(len(final_stock_pred)) \n",
    "\n",
    "for i in range(0,len(final_stock_pred)-1):\n",
    "    final_stock_pred['actual_change'][i+1] = ((final_stock_pred['actual_stock_prices'][i+1]) - (final_stock_pred['actual_stock_prices'][i]))/final_stock_pred['actual_stock_prices'].mean()\n",
    "    final_stock_pred['predicted_change'][i+1] = ((final_stock_pred['predicted_stock_prices'][i+1]) - (final_stock_pred['predicted_stock_prices'][i]))/final_stock_pred['predicted_stock_prices'].mean()\n",
    "    final_stock_pred['pred_accuracy'] = final_stock_pred['actual_change'] - final_stock_pred['predicted_change']\n",
    "\n",
    "final_stock_pred['actual_change'] = (final_stock_pred['actual_change']*100).round(2)\n",
    "final_stock_pred['predicted_change'] = (final_stock_pred['predicted_change']*100).round(2)\n",
    "final_stock_pred['pred_accuracy'] = (final_stock_pred['pred_accuracy']*100).round(2)"
   ]
  },
  {
   "cell_type": "code",
   "execution_count": 73,
   "id": "3f9a3808",
   "metadata": {},
   "outputs": [
    {
     "name": "stdout",
     "output_type": "stream",
     "text": [
      "    actual_stock_prices  predicted_stock_prices  actual_change  \\\n",
      "0                483.00              462.064148           0.00   \n",
      "1                481.70              470.451263          -0.26   \n",
      "2                490.60              471.202057           1.75   \n",
      "3                497.95              478.940979           1.45   \n",
      "4                488.20              484.278564          -1.92   \n",
      "5                499.90              480.871185           2.30   \n",
      "6                502.95              489.056213           0.60   \n",
      "7                502.95              490.674255           0.00   \n",
      "8                506.50              492.230927           0.70   \n",
      "9                512.55              495.423096           1.19   \n",
      "10               519.15              499.039215           1.30   \n",
      "11               501.35              503.297211          -3.50   \n",
      "12               502.15              496.110016           0.16   \n",
      "13               515.70              497.370270           2.67   \n",
      "14               521.70              502.509491           1.18   \n",
      "15               527.65              505.140503           1.17   \n",
      "16               530.45              509.614410           0.55   \n",
      "17               523.25              512.496704          -1.42   \n",
      "18               529.15              510.948944           1.16   \n",
      "19               524.40              514.425354          -0.93   \n",
      "\n",
      "    predicted_change  pred_accuracy  %_price_diff  \n",
      "0               0.00           0.00          4.12  \n",
      "1               1.70          -1.96          2.21  \n",
      "2               0.15           1.60          3.82  \n",
      "3               1.57          -0.12          3.74  \n",
      "4               1.08          -3.00          0.77  \n",
      "5              -0.69           2.99          3.75  \n",
      "6               1.66          -1.06          2.73  \n",
      "7               0.33          -0.33          2.42  \n",
      "8               0.32           0.38          2.81  \n",
      "9               0.65           0.54          3.37  \n",
      "10              0.73           0.57          3.96  \n",
      "11              0.86          -4.37         -0.38  \n",
      "12             -1.46           1.61          1.19  \n",
      "13              0.26           2.41          3.61  \n",
      "14              1.04           0.14          3.78  \n",
      "15              0.53           0.64          4.43  \n",
      "16              0.91          -0.36          4.10  \n",
      "17              0.58          -2.00          2.12  \n",
      "18             -0.31           1.48          3.58  \n",
      "19              0.70          -1.64          1.96  \n",
      "Average Prediction Accuracy:  1.43 %\n",
      "Average Price Difference between Actual & Predicted:  3.1 %\n"
     ]
    }
   ],
   "source": [
    "final_stock_pred['%_price_diff'] = (((final_stock_pred['actual_stock_prices']-final_stock_pred['predicted_stock_prices'])/final_stock_pred['actual_stock_prices'].mean())*100).round(2)\n",
    "print(final_stock_pred)\n",
    "print('Average Prediction Accuracy: ',(final_stock_pred['pred_accuracy'].abs().sum()/(len(final_stock_pred)-1)).round(2),'%')\n",
    "print('Average Price Difference between Actual & Predicted: ',(final_stock_pred['%_price_diff'].abs().sum()/(len(final_stock_pred)-1)).round(2),'%')"
   ]
  },
  {
   "cell_type": "code",
   "execution_count": 74,
   "id": "3c0b97ca",
   "metadata": {},
   "outputs": [
    {
     "data": {
      "image/png": "[encoded data removed]",
      "text/plain": [
       "<Figure size 432x288 with 1 Axes>"
      ]
     },
     "metadata": {
      "needs_background": "light"
     },
     "output_type": "display_data"
    }
   ],
   "source": [
    "plt.plot(final_stock_pred['actual_stock_prices'], color = 'red', label = 'Actual Stock Price')\n",
    "plt.plot(final_stock_pred['predicted_stock_prices'], color = 'blue', label = 'Predicted Stock Price')\n",
    "plt.title('Stock Price Prediction / Stock Trend Prediction')\n",
    "plt.xlabel('Time Axis')\n",
    "plt.ylabel('Stock Price')\n",
    "plt.legend()\n",
    "plt.show()"
   ]
  },
  {
   "cell_type": "code",
   "execution_count": 75,
   "id": "6f47a8c7",
   "metadata": {},
   "outputs": [
    {
     "data": {
      "text/plain": [
       "<AxesSubplot:xlabel='Date'>"
      ]
     },
     "execution_count": 75,
     "metadata": {},
     "output_type": "execute_result"
    },
    {
     "data": {
      "image/png": "[encoded data removed]",
      "text/plain": [
       "<Figure size 432x288 with 2 Axes>"
      ]
     },
     "metadata": {
      "needs_background": "light"
     },
     "output_type": "display_data"
    }
   ],
   "source": [
    "nifty = get_history(symbol=\"NIFTY\", \n",
    "                    start=start_date, \n",
    "                    end=end_date,\n",
    "                    index=True)\n",
    "nifty[['Close', 'Turnover']].plot(secondary_y='Turnover')"
   ]
  },
  {
   "cell_type": "code",
   "execution_count": 76,
   "id": "0e8cae97",
   "metadata": {},
   "outputs": [
    {
     "data": {
      "text/html": [
       "<div>\n",
       "<style scoped>\n",
       "    .dataframe tbody tr th:only-of-type {\n",
       "        vertical-align: middle;\n",
       "    }\n",
       "\n",
       "    .dataframe tbody tr th {\n",
       "        vertical-align: top;\n",
       "    }\n",
       "\n",
       "    .dataframe thead th {\n",
       "        text-align: right;\n",
       "    }\n",
       "</style>\n",
       "<table border=\"1\" class=\"dataframe\">\n",
       "  <thead>\n",
       "    <tr style=\"text-align: right;\">\n",
       "      <th></th>\n",
       "      <th>Open</th>\n",
       "      <th>High</th>\n",
       "      <th>Low</th>\n",
       "      <th>Close</th>\n",
       "      <th>Volume</th>\n",
       "      <th>Turnover</th>\n",
       "    </tr>\n",
       "    <tr>\n",
       "      <th>Date</th>\n",
       "      <th></th>\n",
       "      <th></th>\n",
       "      <th></th>\n",
       "      <th></th>\n",
       "      <th></th>\n",
       "      <th></th>\n",
       "    </tr>\n",
       "  </thead>\n",
       "  <tbody>\n",
       "    <tr>\n",
       "      <th>2021-11-08</th>\n",
       "      <td>18040.20</td>\n",
       "      <td>18087.80</td>\n",
       "      <td>17836.10</td>\n",
       "      <td>18068.55</td>\n",
       "      <td>338919483.0</td>\n",
       "      <td>3.090823e+11</td>\n",
       "    </tr>\n",
       "    <tr>\n",
       "      <th>2021-11-09</th>\n",
       "      <td>18084.35</td>\n",
       "      <td>18112.60</td>\n",
       "      <td>17983.05</td>\n",
       "      <td>18044.25</td>\n",
       "      <td>270197527.0</td>\n",
       "      <td>2.368609e+11</td>\n",
       "    </tr>\n",
       "    <tr>\n",
       "      <th>2021-11-10</th>\n",
       "      <td>17973.45</td>\n",
       "      <td>18061.25</td>\n",
       "      <td>17915.00</td>\n",
       "      <td>18017.20</td>\n",
       "      <td>261446523.0</td>\n",
       "      <td>2.228111e+11</td>\n",
       "    </tr>\n",
       "  </tbody>\n",
       "</table>\n",
       "</div>"
      ],
      "text/plain": [
       "                Open      High       Low     Close       Volume      Turnover\n",
       "Date                                                                         \n",
       "2021-11-08  18040.20  18087.80  17836.10  18068.55  338919483.0  3.090823e+11\n",
       "2021-11-09  18084.35  18112.60  17983.05  18044.25  270197527.0  2.368609e+11\n",
       "2021-11-10  17973.45  18061.25  17915.00  18017.20  261446523.0  2.228111e+11"
      ]
     },
     "execution_count": 76,
     "metadata": {},
     "output_type": "execute_result"
    }
   ],
   "source": [
    "nifty.tail(3)"
   ]
  },
  {
   "cell_type": "code",
   "execution_count": 77,
   "id": "375b55bd",
   "metadata": {},
   "outputs": [
    {
     "data": {
      "text/html": [
       "<div>\n",
       "<style scoped>\n",
       "    .dataframe tbody tr th:only-of-type {\n",
       "        vertical-align: middle;\n",
       "    }\n",
       "\n",
       "    .dataframe tbody tr th {\n",
       "        vertical-align: top;\n",
       "    }\n",
       "\n",
       "    .dataframe thead th {\n",
       "        text-align: right;\n",
       "    }\n",
       "</style>\n",
       "<table border=\"1\" class=\"dataframe\">\n",
       "  <thead>\n",
       "    <tr style=\"text-align: right;\">\n",
       "      <th></th>\n",
       "      <th>Open</th>\n",
       "      <th>High</th>\n",
       "      <th>Low</th>\n",
       "      <th>Close</th>\n",
       "      <th>Volume</th>\n",
       "      <th>Turnover</th>\n",
       "    </tr>\n",
       "  </thead>\n",
       "  <tbody>\n",
       "    <tr>\n",
       "      <th>count</th>\n",
       "      <td>2977.000000</td>\n",
       "      <td>2977.000000</td>\n",
       "      <td>2977.000000</td>\n",
       "      <td>2977.000000</td>\n",
       "      <td>2.976000e+03</td>\n",
       "      <td>2.976000e+03</td>\n",
       "    </tr>\n",
       "    <tr>\n",
       "      <th>mean</th>\n",
       "      <td>8582.130702</td>\n",
       "      <td>8626.159674</td>\n",
       "      <td>8523.276839</td>\n",
       "      <td>8575.431323</td>\n",
       "      <td>2.660420e+08</td>\n",
       "      <td>1.252058e+11</td>\n",
       "    </tr>\n",
       "    <tr>\n",
       "      <th>std</th>\n",
       "      <td>3062.524815</td>\n",
       "      <td>3071.020963</td>\n",
       "      <td>3044.523520</td>\n",
       "      <td>3058.769337</td>\n",
       "      <td>1.934617e+08</td>\n",
       "      <td>9.574429e+10</td>\n",
       "    </tr>\n",
       "    <tr>\n",
       "      <th>min</th>\n",
       "      <td>4623.150000</td>\n",
       "      <td>4623.150000</td>\n",
       "      <td>4531.150000</td>\n",
       "      <td>4544.200000</td>\n",
       "      <td>6.555703e+06</td>\n",
       "      <td>2.978900e+09</td>\n",
       "    </tr>\n",
       "    <tr>\n",
       "      <th>25%</th>\n",
       "      <td>5824.200000</td>\n",
       "      <td>5861.300000</td>\n",
       "      <td>5776.950000</td>\n",
       "      <td>5826.050000</td>\n",
       "      <td>1.469322e+08</td>\n",
       "      <td>6.319030e+10</td>\n",
       "    </tr>\n",
       "    <tr>\n",
       "      <th>50%</th>\n",
       "      <td>8202.650000</td>\n",
       "      <td>8242.400000</td>\n",
       "      <td>8148.600000</td>\n",
       "      <td>8201.050000</td>\n",
       "      <td>1.907994e+08</td>\n",
       "      <td>8.390440e+10</td>\n",
       "    </tr>\n",
       "    <tr>\n",
       "      <th>75%</th>\n",
       "      <td>10708.750000</td>\n",
       "      <td>10757.800000</td>\n",
       "      <td>10635.650000</td>\n",
       "      <td>10696.200000</td>\n",
       "      <td>3.034693e+08</td>\n",
       "      <td>1.544292e+11</td>\n",
       "    </tr>\n",
       "    <tr>\n",
       "      <th>max</th>\n",
       "      <td>18602.350000</td>\n",
       "      <td>18604.450000</td>\n",
       "      <td>18445.300000</td>\n",
       "      <td>18477.050000</td>\n",
       "      <td>1.811564e+09</td>\n",
       "      <td>7.852293e+11</td>\n",
       "    </tr>\n",
       "  </tbody>\n",
       "</table>\n",
       "</div>"
      ],
      "text/plain": [
       "               Open          High           Low         Close        Volume  \\\n",
       "count   2977.000000   2977.000000   2977.000000   2977.000000  2.976000e+03   \n",
       "mean    8582.130702   8626.159674   8523.276839   8575.431323  2.660420e+08   \n",
       "std     3062.524815   3071.020963   3044.523520   3058.769337  1.934617e+08   \n",
       "min     4623.150000   4623.150000   4531.150000   4544.200000  6.555703e+06   \n",
       "25%     5824.200000   5861.300000   5776.950000   5826.050000  1.469322e+08   \n",
       "50%     8202.650000   8242.400000   8148.600000   8201.050000  1.907994e+08   \n",
       "75%    10708.750000  10757.800000  10635.650000  10696.200000  3.034693e+08   \n",
       "max    18602.350000  18604.450000  18445.300000  18477.050000  1.811564e+09   \n",
       "\n",
       "           Turnover  \n",
       "count  2.976000e+03  \n",
       "mean   1.252058e+11  \n",
       "std    9.574429e+10  \n",
       "min    2.978900e+09  \n",
       "25%    6.319030e+10  \n",
       "50%    8.390440e+10  \n",
       "75%    1.544292e+11  \n",
       "max    7.852293e+11  "
      ]
     },
     "execution_count": 77,
     "metadata": {},
     "output_type": "execute_result"
    }
   ],
   "source": [
    "nifty.describe() # result shows that the stock data is not adjusted for a 1:10 split"
   ]
  },
  {
   "cell_type": "code",
   "execution_count": 78,
   "id": "a38c0d87",
   "metadata": {},
   "outputs": [],
   "source": [
    "# Forming a 2-d array of closing prices to be fed into RNN\n",
    "# We take the last 20 day prices in the test data (corresponding roughly to 1 calendar month)\n",
    "trend_test_days = 20\n",
    "training_set = nifty.iloc[:len(nifty)-trend_test_days,7:8].values\n"
   ]
  },
  {
   "cell_type": "code",
   "execution_count": 79,
   "id": "e6ff2212",
   "metadata": {},
   "outputs": [
    {
     "data": {
      "text/plain": [
       "(array([], shape=(2957, 0), dtype=float64), 2957)"
      ]
     },
     "execution_count": 79,
     "metadata": {},
     "output_type": "execute_result"
    }
   ],
   "source": [
    "training_set, len(training_set)"
   ]
  },
  {
   "cell_type": "code",
   "execution_count": 80,
   "id": "0f346127",
   "metadata": {},
   "outputs": [
    {
     "ename": "ValueError",
     "evalue": "Found array with 0 feature(s) (shape=(2957, 0)) while a minimum of 1 is required by MinMaxScaler.",
     "output_type": "error",
     "traceback": [
      "\u001b[1;31m---------------------------------------------------------------------------\u001b[0m",
      "\u001b[1;31mValueError\u001b[0m                                Traceback (most recent call last)",
      "\u001b[1;32m<ipython-input-80-476d0d7d587b>\u001b[0m in \u001b[0;36m<module>\u001b[1;34m\u001b[0m\n\u001b[0;32m      2\u001b[0m \u001b[1;32mfrom\u001b[0m \u001b[0msklearn\u001b[0m\u001b[1;33m.\u001b[0m\u001b[0mpreprocessing\u001b[0m \u001b[1;32mimport\u001b[0m \u001b[0mMinMaxScaler\u001b[0m\u001b[1;33m\u001b[0m\u001b[1;33m\u001b[0m\u001b[0m\n\u001b[0;32m      3\u001b[0m \u001b[0mscaler\u001b[0m \u001b[1;33m=\u001b[0m \u001b[0mMinMaxScaler\u001b[0m\u001b[1;33m(\u001b[0m\u001b[0mfeature_range\u001b[0m \u001b[1;33m=\u001b[0m \u001b[1;33m(\u001b[0m\u001b[1;36m0\u001b[0m\u001b[1;33m,\u001b[0m\u001b[1;36m1\u001b[0m\u001b[1;33m)\u001b[0m\u001b[1;33m)\u001b[0m\u001b[1;33m\u001b[0m\u001b[1;33m\u001b[0m\u001b[0m\n\u001b[1;32m----> 4\u001b[1;33m \u001b[0mtraining_set_scaled\u001b[0m \u001b[1;33m=\u001b[0m \u001b[0mscaler\u001b[0m\u001b[1;33m.\u001b[0m\u001b[0mfit_transform\u001b[0m\u001b[1;33m(\u001b[0m\u001b[0mtraining_set\u001b[0m\u001b[1;33m)\u001b[0m\u001b[1;33m\u001b[0m\u001b[1;33m\u001b[0m\u001b[0m\n\u001b[0m",
      "\u001b[1;32m~\\anaconda3\\lib\\site-packages\\sklearn\\base.py\u001b[0m in \u001b[0;36mfit_transform\u001b[1;34m(self, X, y, **fit_params)\u001b[0m\n\u001b[0;32m    697\u001b[0m         \u001b[1;32mif\u001b[0m \u001b[0my\u001b[0m \u001b[1;32mis\u001b[0m \u001b[1;32mNone\u001b[0m\u001b[1;33m:\u001b[0m\u001b[1;33m\u001b[0m\u001b[1;33m\u001b[0m\u001b[0m\n\u001b[0;32m    698\u001b[0m             \u001b[1;31m# fit method of arity 1 (unsupervised transformation)\u001b[0m\u001b[1;33m\u001b[0m\u001b[1;33m\u001b[0m\u001b[1;33m\u001b[0m\u001b[0m\n\u001b[1;32m--> 699\u001b[1;33m             \u001b[1;32mreturn\u001b[0m \u001b[0mself\u001b[0m\u001b[1;33m.\u001b[0m\u001b[0mfit\u001b[0m\u001b[1;33m(\u001b[0m\u001b[0mX\u001b[0m\u001b[1;33m,\u001b[0m \u001b[1;33m**\u001b[0m\u001b[0mfit_params\u001b[0m\u001b[1;33m)\u001b[0m\u001b[1;33m.\u001b[0m\u001b[0mtransform\u001b[0m\u001b[1;33m(\u001b[0m\u001b[0mX\u001b[0m\u001b[1;33m)\u001b[0m\u001b[1;33m\u001b[0m\u001b[1;33m\u001b[0m\u001b[0m\n\u001b[0m\u001b[0;32m    700\u001b[0m         \u001b[1;32melse\u001b[0m\u001b[1;33m:\u001b[0m\u001b[1;33m\u001b[0m\u001b[1;33m\u001b[0m\u001b[0m\n\u001b[0;32m    701\u001b[0m             \u001b[1;31m# fit method of arity 2 (supervised transformation)\u001b[0m\u001b[1;33m\u001b[0m\u001b[1;33m\u001b[0m\u001b[1;33m\u001b[0m\u001b[0m\n",
      "\u001b[1;32m~\\anaconda3\\lib\\site-packages\\sklearn\\preprocessing\\_data.py\u001b[0m in \u001b[0;36mfit\u001b[1;34m(self, X, y)\u001b[0m\n\u001b[0;32m    361\u001b[0m         \u001b[1;31m# Reset internal state before fitting\u001b[0m\u001b[1;33m\u001b[0m\u001b[1;33m\u001b[0m\u001b[1;33m\u001b[0m\u001b[0m\n\u001b[0;32m    362\u001b[0m         \u001b[0mself\u001b[0m\u001b[1;33m.\u001b[0m\u001b[0m_reset\u001b[0m\u001b[1;33m(\u001b[0m\u001b[1;33m)\u001b[0m\u001b[1;33m\u001b[0m\u001b[1;33m\u001b[0m\u001b[0m\n\u001b[1;32m--> 363\u001b[1;33m         \u001b[1;32mreturn\u001b[0m \u001b[0mself\u001b[0m\u001b[1;33m.\u001b[0m\u001b[0mpartial_fit\u001b[0m\u001b[1;33m(\u001b[0m\u001b[0mX\u001b[0m\u001b[1;33m,\u001b[0m \u001b[0my\u001b[0m\u001b[1;33m)\u001b[0m\u001b[1;33m\u001b[0m\u001b[1;33m\u001b[0m\u001b[0m\n\u001b[0m\u001b[0;32m    364\u001b[0m \u001b[1;33m\u001b[0m\u001b[0m\n\u001b[0;32m    365\u001b[0m     \u001b[1;32mdef\u001b[0m \u001b[0mpartial_fit\u001b[0m\u001b[1;33m(\u001b[0m\u001b[0mself\u001b[0m\u001b[1;33m,\u001b[0m \u001b[0mX\u001b[0m\u001b[1;33m,\u001b[0m \u001b[0my\u001b[0m\u001b[1;33m=\u001b[0m\u001b[1;32mNone\u001b[0m\u001b[1;33m)\u001b[0m\u001b[1;33m:\u001b[0m\u001b[1;33m\u001b[0m\u001b[1;33m\u001b[0m\u001b[0m\n",
      "\u001b[1;32m~\\anaconda3\\lib\\site-packages\\sklearn\\preprocessing\\_data.py\u001b[0m in \u001b[0;36mpartial_fit\u001b[1;34m(self, X, y)\u001b[0m\n\u001b[0;32m    394\u001b[0m \u001b[1;33m\u001b[0m\u001b[0m\n\u001b[0;32m    395\u001b[0m         \u001b[0mfirst_pass\u001b[0m \u001b[1;33m=\u001b[0m \u001b[1;32mnot\u001b[0m \u001b[0mhasattr\u001b[0m\u001b[1;33m(\u001b[0m\u001b[0mself\u001b[0m\u001b[1;33m,\u001b[0m \u001b[1;34m'n_samples_seen_'\u001b[0m\u001b[1;33m)\u001b[0m\u001b[1;33m\u001b[0m\u001b[1;33m\u001b[0m\u001b[0m\n\u001b[1;32m--> 396\u001b[1;33m         X = self._validate_data(X, reset=first_pass,\n\u001b[0m\u001b[0;32m    397\u001b[0m                                 \u001b[0mestimator\u001b[0m\u001b[1;33m=\u001b[0m\u001b[0mself\u001b[0m\u001b[1;33m,\u001b[0m \u001b[0mdtype\u001b[0m\u001b[1;33m=\u001b[0m\u001b[0mFLOAT_DTYPES\u001b[0m\u001b[1;33m,\u001b[0m\u001b[1;33m\u001b[0m\u001b[1;33m\u001b[0m\u001b[0m\n\u001b[0;32m    398\u001b[0m                                 force_all_finite=\"allow-nan\")\n",
      "\u001b[1;32m~\\anaconda3\\lib\\site-packages\\sklearn\\base.py\u001b[0m in \u001b[0;36m_validate_data\u001b[1;34m(self, X, y, reset, validate_separately, **check_params)\u001b[0m\n\u001b[0;32m    419\u001b[0m             \u001b[0mout\u001b[0m \u001b[1;33m=\u001b[0m \u001b[0mX\u001b[0m\u001b[1;33m\u001b[0m\u001b[1;33m\u001b[0m\u001b[0m\n\u001b[0;32m    420\u001b[0m         \u001b[1;32melif\u001b[0m \u001b[0misinstance\u001b[0m\u001b[1;33m(\u001b[0m\u001b[0my\u001b[0m\u001b[1;33m,\u001b[0m \u001b[0mstr\u001b[0m\u001b[1;33m)\u001b[0m \u001b[1;32mand\u001b[0m \u001b[0my\u001b[0m \u001b[1;33m==\u001b[0m \u001b[1;34m'no_validation'\u001b[0m\u001b[1;33m:\u001b[0m\u001b[1;33m\u001b[0m\u001b[1;33m\u001b[0m\u001b[0m\n\u001b[1;32m--> 421\u001b[1;33m             \u001b[0mX\u001b[0m \u001b[1;33m=\u001b[0m \u001b[0mcheck_array\u001b[0m\u001b[1;33m(\u001b[0m\u001b[0mX\u001b[0m\u001b[1;33m,\u001b[0m \u001b[1;33m**\u001b[0m\u001b[0mcheck_params\u001b[0m\u001b[1;33m)\u001b[0m\u001b[1;33m\u001b[0m\u001b[1;33m\u001b[0m\u001b[0m\n\u001b[0m\u001b[0;32m    422\u001b[0m             \u001b[0mout\u001b[0m \u001b[1;33m=\u001b[0m \u001b[0mX\u001b[0m\u001b[1;33m\u001b[0m\u001b[1;33m\u001b[0m\u001b[0m\n\u001b[0;32m    423\u001b[0m         \u001b[1;32melse\u001b[0m\u001b[1;33m:\u001b[0m\u001b[1;33m\u001b[0m\u001b[1;33m\u001b[0m\u001b[0m\n",
      "\u001b[1;32m~\\anaconda3\\lib\\site-packages\\sklearn\\utils\\validation.py\u001b[0m in \u001b[0;36minner_f\u001b[1;34m(*args, **kwargs)\u001b[0m\n\u001b[0;32m     61\u001b[0m             \u001b[0mextra_args\u001b[0m \u001b[1;33m=\u001b[0m \u001b[0mlen\u001b[0m\u001b[1;33m(\u001b[0m\u001b[0margs\u001b[0m\u001b[1;33m)\u001b[0m \u001b[1;33m-\u001b[0m \u001b[0mlen\u001b[0m\u001b[1;33m(\u001b[0m\u001b[0mall_args\u001b[0m\u001b[1;33m)\u001b[0m\u001b[1;33m\u001b[0m\u001b[1;33m\u001b[0m\u001b[0m\n\u001b[0;32m     62\u001b[0m             \u001b[1;32mif\u001b[0m \u001b[0mextra_args\u001b[0m \u001b[1;33m<=\u001b[0m \u001b[1;36m0\u001b[0m\u001b[1;33m:\u001b[0m\u001b[1;33m\u001b[0m\u001b[1;33m\u001b[0m\u001b[0m\n\u001b[1;32m---> 63\u001b[1;33m                 \u001b[1;32mreturn\u001b[0m \u001b[0mf\u001b[0m\u001b[1;33m(\u001b[0m\u001b[1;33m*\u001b[0m\u001b[0margs\u001b[0m\u001b[1;33m,\u001b[0m \u001b[1;33m**\u001b[0m\u001b[0mkwargs\u001b[0m\u001b[1;33m)\u001b[0m\u001b[1;33m\u001b[0m\u001b[1;33m\u001b[0m\u001b[0m\n\u001b[0m\u001b[0;32m     64\u001b[0m \u001b[1;33m\u001b[0m\u001b[0m\n\u001b[0;32m     65\u001b[0m             \u001b[1;31m# extra_args > 0\u001b[0m\u001b[1;33m\u001b[0m\u001b[1;33m\u001b[0m\u001b[1;33m\u001b[0m\u001b[0m\n",
      "\u001b[1;32m~\\anaconda3\\lib\\site-packages\\sklearn\\utils\\validation.py\u001b[0m in \u001b[0;36mcheck_array\u001b[1;34m(array, accept_sparse, accept_large_sparse, dtype, order, copy, force_all_finite, ensure_2d, allow_nd, ensure_min_samples, ensure_min_features, estimator)\u001b[0m\n\u001b[0;32m    675\u001b[0m         \u001b[0mn_features\u001b[0m \u001b[1;33m=\u001b[0m \u001b[0marray\u001b[0m\u001b[1;33m.\u001b[0m\u001b[0mshape\u001b[0m\u001b[1;33m[\u001b[0m\u001b[1;36m1\u001b[0m\u001b[1;33m]\u001b[0m\u001b[1;33m\u001b[0m\u001b[1;33m\u001b[0m\u001b[0m\n\u001b[0;32m    676\u001b[0m         \u001b[1;32mif\u001b[0m \u001b[0mn_features\u001b[0m \u001b[1;33m<\u001b[0m \u001b[0mensure_min_features\u001b[0m\u001b[1;33m:\u001b[0m\u001b[1;33m\u001b[0m\u001b[1;33m\u001b[0m\u001b[0m\n\u001b[1;32m--> 677\u001b[1;33m             raise ValueError(\"Found array with %d feature(s) (shape=%s) while\"\n\u001b[0m\u001b[0;32m    678\u001b[0m                              \u001b[1;34m\" a minimum of %d is required%s.\"\u001b[0m\u001b[1;33m\u001b[0m\u001b[1;33m\u001b[0m\u001b[0m\n\u001b[0;32m    679\u001b[0m                              % (n_features, array.shape, ensure_min_features,\n",
      "\u001b[1;31mValueError\u001b[0m: Found array with 0 feature(s) (shape=(2957, 0)) while a minimum of 1 is required by MinMaxScaler."
     ]
    }
   ],
   "source": [
    "# Using normalisation to scale data, as RNN uses distance between data points to train \n",
    "from sklearn.preprocessing import MinMaxScaler\n",
    "scaler = MinMaxScaler(feature_range = (0,1))\n",
    "training_set_scaled = scaler.fit_transform(training_set)"
   ]
  },
  {
   "cell_type": "code",
   "execution_count": null,
   "id": "24e5b7de",
   "metadata": {},
   "outputs": [],
   "source": [
    "# The recurrent neural network with long short term memory (LSTM) will use a timestep of 120 trading days as memory\n",
    "# Creating the data structure which preserves 120 days of memory\n",
    "X_train = [] #initiate training lists\n",
    "y_train = []\n",
    "memory_range = 120\n",
    "for i in range(memory_range, len(training_set_scaled)):\n",
    "    X_train.append(training_set_scaled[(i - memory_range):i,0])\n",
    "    y_train.append(training_set_scaled[i,0])\n",
    "\n",
    "#Convert the lists to numpy arrays\n",
    "X_train, y_train = np.array(X_train), np.array(y_train)"
   ]
  },
  {
   "cell_type": "code",
   "execution_count": null,
   "id": "3e0bfc32",
   "metadata": {},
   "outputs": [],
   "source": [
    "X_train.shape, y_train.shape"
   ]
  },
  {
   "cell_type": "code",
   "execution_count": null,
   "id": "db5713a1",
   "metadata": {},
   "outputs": [],
   "source": [
    "# reshape the x_train array to fit the shape expected by RNN algorithm\n",
    "X_train = np.reshape(X_train, (X_train.shape[0], X_train.shape[1], 1))\n",
    "X_train.shape"
   ]
  },
  {
   "cell_type": "code",
   "execution_count": null,
   "id": "a814a460",
   "metadata": {},
   "outputs": [],
   "source": [
    "#Fitting the RNN model on training data\n",
    "regressor.fit(X_train, y_train, batch_size = 32, epochs = 100)"
   ]
  },
  {
   "cell_type": "code",
   "execution_count": null,
   "id": "bbb80145",
   "metadata": {},
   "outputs": [],
   "source": [
    "test_set = nifty.iloc[len(nifty) - memory_range - trend_test_days:,5:8].values\n",
    "test_set = scaler.transform(test_set)\n",
    "test_set.shape"
   ]
  },
  {
   "cell_type": "code",
   "execution_count": null,
   "id": "cbcd2248",
   "metadata": {},
   "outputs": [],
   "source": [
    "# preparing the test input data structure\n",
    "X_test = []\n",
    "for i in range(memory_range, memory_range + trend_test_days):\n",
    "    X_test.append(test_set[i - memory_range:i, 0])\n",
    "X_test = np.array(X_test)"
   ]
  },
  {
   "cell_type": "code",
   "execution_count": null,
   "id": "78da04a6",
   "metadata": {},
   "outputs": [],
   "source": [
    "X_test = np.reshape(X_test,(X_test.shape[0],X_test.shape[1],1))\n",
    "X_test.shape"
   ]
  },
  {
   "cell_type": "code",
   "execution_count": null,
   "id": "77e62151",
   "metadata": {},
   "outputs": [],
   "source": [
    "# Predict stock prices for the last 20 days\n",
    "predicted_stock_prices = regressor.predict(X_test)\n",
    "predicted_stock_prices = scaler.inverse_transform(predicted_stock_prices)"
   ]
  },
  {
   "cell_type": "code",
   "execution_count": null,
   "id": "2bbb4ad3",
   "metadata": {},
   "outputs": [],
   "source": [
    "# Get actual stock prices for comparison of trend prediction\n",
    "actual_stock_prices = nifty.iloc[len(nifty) - trend_test_days:,5:8].values\n",
    "actual_stock_prices.shape, predicted_stock_prices.shape"
   ]
  },
  {
   "cell_type": "code",
   "execution_count": null,
   "id": "0954e1ca",
   "metadata": {},
   "outputs": [],
   "source": [
    "# Get data in dataframe format with added accuracy measures\n",
    "final_stock_pred = pd.DataFrame(data = actual_stock_prices, columns = ['actual_stock_prices'])\n",
    "final_stock_pred = pd.concat((final_stock_pred, pd.DataFrame(data = predicted_stock_prices, columns = ['predicted_stock_prices'])), axis=1)"
   ]
  },
  {
   "cell_type": "code",
   "execution_count": null,
   "id": "8cc3454d",
   "metadata": {},
   "outputs": [],
   "source": [
    "final_stock_pred['actual_change'] = np.zeros(len(final_stock_pred))\n",
    "final_stock_pred['predicted_change'] = np.zeros(len(final_stock_pred)) \n",
    "\n",
    "for i in range(0,len(final_stock_pred)-1):\n",
    "    final_stock_pred['actual_change'][i+1] = ((final_stock_pred['actual_stock_prices'][i+1]) - (final_stock_pred['actual_stock_prices'][i]))/final_stock_pred['actual_stock_prices'].mean()\n",
    "    final_stock_pred['predicted_change'][i+1] = ((final_stock_pred['predicted_stock_prices'][i+1]) - (final_stock_pred['predicted_stock_prices'][i]))/final_stock_pred['predicted_stock_prices'].mean()\n",
    "    final_stock_pred['pred_accuracy'] = final_stock_pred['actual_change'] - final_stock_pred['predicted_change']\n",
    "\n",
    "final_stock_pred['actual_change'] = (final_stock_pred['actual_change']*100).round(2)\n",
    "final_stock_pred['predicted_change'] = (final_stock_pred['predicted_change']*100).round(2)\n",
    "final_stock_pred['pred_accuracy'] = (final_stock_pred['pred_accuracy']*100).round(2)"
   ]
  },
  {
   "cell_type": "code",
   "execution_count": null,
   "id": "1bf64267",
   "metadata": {},
   "outputs": [],
   "source": [
    "final_stock_pred['%_price_diff'] = (((final_stock_pred['actual_stock_prices']-final_stock_pred['predicted_stock_prices'])/final_stock_pred['actual_stock_prices'].mean())*100).round(2)\n",
    "print(final_stock_pred)\n",
    "print('Average Prediction Accuracy: ',(final_stock_pred['pred_accuracy'].abs().sum()/(len(final_stock_pred)-1)).round(2),'%')\n",
    "print('Average Price Difference between Actual & Predicted: ',(final_stock_pred['%_price_diff'].abs().sum()/(len(final_stock_pred)-1)).round(2),'%')"
   ]
  },
  {
   "cell_type": "code",
   "execution_count": null,
   "id": "5ec5c0ab",
   "metadata": {},
   "outputs": [],
   "source": [
    "plt.plot(final_stock_pred['actual_stock_prices'], color = 'red', label = 'Actual Stock Price')\n",
    "plt.plot(final_stock_pred['predicted_stock_prices'], color = 'blue', label = 'Predicted Stock Price')\n",
    "plt.title(' Stock Price Prediction /  Stock Trend Prediction')\n",
    "plt.xlabel('Time Axis')\n",
    "plt.ylabel('Stock Price')\n",
    "plt.legend()\n",
    "plt.show()"
   ]
  },
  {
   "cell_type": "code",
   "execution_count": null,
   "id": "c697023e",
   "metadata": {},
   "outputs": [],
   "source": []
  },
  {
   "cell_type": "code",
   "execution_count": null,
   "id": "5a046aaf",
   "metadata": {},
   "outputs": [],
   "source": []
  },
  {
   "cell_type": "code",
   "execution_count": null,
   "id": "216c2545",
   "metadata": {},
   "outputs": [],
   "source": []
  }
 ],
 "metadata": {
  "kernelspec": {
   "display_name": "Python 3",
   "language": "python",
   "name": "python3"
  },
  "language_info": {
   "codemirror_mode": {
    "name": "ipython",
    "version": 3
   },
   "file_extension": ".py",
   "mimetype": "text/x-python",
   "name": "python",
   "nbconvert_exporter": "python",
   "pygments_lexer": "ipython3",
   "version": "3.8.8"
  }
 },
 "nbformat": 4,
 "nbformat_minor": 5
}

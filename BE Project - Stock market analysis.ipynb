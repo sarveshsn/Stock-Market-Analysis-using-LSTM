{
 "cells": [
  {
   "cell_type": "code",
   "execution_count": 21,
   "id": "46e45759",
   "metadata": {},
   "outputs": [],
   "source": [
    "import numpy as np\n",
    "import pandas as pd\n",
    "import seaborn as sns\n",
    "import matplotlib.pyplot as plt\n",
    "from nsepy import get_history\n",
    "%matplotlib inline\n",
    "from datetime import date, timedelta, datetime"
   ]
  },
  {
   "cell_type": "code",
   "execution_count": 22,
   "id": "f48439eb",
   "metadata": {},
   "outputs": [],
   "source": [
    "# Initialising the number of years of training data to be downloaded from NSE\n",
    "training_no_of_years = 12\n",
    "# Initialising start and end dates for stock data download\n",
    "start_date = date.today() - timedelta(days = 365*training_no_of_years + training_no_of_years//4) #adjusting no of days for leap years in between\n",
    "end_date = date.today()"
   ]
  },
  {
   "cell_type": "code",
   "execution_count": 23,
   "id": "1b12add9",
   "metadata": {},
   "outputs": [],
   "source": [
    "# Stock selected is State Bank of India (NSE: SBIN), the largest bank in India and one of the most liquid stocks\n",
    "stockdf = get_history(symbol = 'SBIN', start = start_date, end = end_date)"
   ]
  },
  {
   "cell_type": "code",
   "execution_count": 24,
   "id": "625ecf2f",
   "metadata": {},
   "outputs": [],
   "source": [
    "stockdf = stockdf.drop(['Trades', 'Turnover'], axis=1)"
   ]
  },
  {
   "cell_type": "code",
   "execution_count": 25,
   "id": "a880a193",
   "metadata": {},
   "outputs": [
    {
     "data": {
      "text/html": [
       "<div>\n",
       "<style scoped>\n",
       "    .dataframe tbody tr th:only-of-type {\n",
       "        vertical-align: middle;\n",
       "    }\n",
       "\n",
       "    .dataframe tbody tr th {\n",
       "        vertical-align: top;\n",
       "    }\n",
       "\n",
       "    .dataframe thead th {\n",
       "        text-align: right;\n",
       "    }\n",
       "</style>\n",
       "<table border=\"1\" class=\"dataframe\">\n",
       "  <thead>\n",
       "    <tr style=\"text-align: right;\">\n",
       "      <th></th>\n",
       "      <th>Symbol</th>\n",
       "      <th>Series</th>\n",
       "      <th>Prev Close</th>\n",
       "      <th>Open</th>\n",
       "      <th>High</th>\n",
       "      <th>Low</th>\n",
       "      <th>Last</th>\n",
       "      <th>Close</th>\n",
       "      <th>VWAP</th>\n",
       "      <th>Volume</th>\n",
       "      <th>Deliverable Volume</th>\n",
       "      <th>%Deliverble</th>\n",
       "    </tr>\n",
       "    <tr>\n",
       "      <th>Date</th>\n",
       "      <th></th>\n",
       "      <th></th>\n",
       "      <th></th>\n",
       "      <th></th>\n",
       "      <th></th>\n",
       "      <th></th>\n",
       "      <th></th>\n",
       "      <th></th>\n",
       "      <th></th>\n",
       "      <th></th>\n",
       "      <th></th>\n",
       "      <th></th>\n",
       "    </tr>\n",
       "  </thead>\n",
       "  <tbody>\n",
       "    <tr>\n",
       "      <th>2009-11-10</th>\n",
       "      <td>SBIN</td>\n",
       "      <td>EQ</td>\n",
       "      <td>2318.20</td>\n",
       "      <td>2338.0</td>\n",
       "      <td>2381.90</td>\n",
       "      <td>2325.0</td>\n",
       "      <td>2365.1</td>\n",
       "      <td>2368.90</td>\n",
       "      <td>2357.25</td>\n",
       "      <td>4183301</td>\n",
       "      <td>1561318</td>\n",
       "      <td>0.3732</td>\n",
       "    </tr>\n",
       "    <tr>\n",
       "      <th>2009-11-11</th>\n",
       "      <td>SBIN</td>\n",
       "      <td>EQ</td>\n",
       "      <td>2368.90</td>\n",
       "      <td>2365.0</td>\n",
       "      <td>2384.50</td>\n",
       "      <td>2330.0</td>\n",
       "      <td>2378.0</td>\n",
       "      <td>2378.25</td>\n",
       "      <td>2357.21</td>\n",
       "      <td>2242076</td>\n",
       "      <td>512165</td>\n",
       "      <td>0.2284</td>\n",
       "    </tr>\n",
       "    <tr>\n",
       "      <th>2009-11-12</th>\n",
       "      <td>SBIN</td>\n",
       "      <td>EQ</td>\n",
       "      <td>2378.25</td>\n",
       "      <td>2370.0</td>\n",
       "      <td>2378.25</td>\n",
       "      <td>2276.0</td>\n",
       "      <td>2300.0</td>\n",
       "      <td>2293.65</td>\n",
       "      <td>2323.20</td>\n",
       "      <td>2225929</td>\n",
       "      <td>547072</td>\n",
       "      <td>0.2458</td>\n",
       "    </tr>\n",
       "  </tbody>\n",
       "</table>\n",
       "</div>"
      ],
      "text/plain": [
       "           Symbol Series  Prev Close    Open     High     Low    Last  \\\n",
       "Date                                                                    \n",
       "2009-11-10   SBIN     EQ     2318.20  2338.0  2381.90  2325.0  2365.1   \n",
       "2009-11-11   SBIN     EQ     2368.90  2365.0  2384.50  2330.0  2378.0   \n",
       "2009-11-12   SBIN     EQ     2378.25  2370.0  2378.25  2276.0  2300.0   \n",
       "\n",
       "              Close     VWAP   Volume  Deliverable Volume  %Deliverble  \n",
       "Date                                                                    \n",
       "2009-11-10  2368.90  2357.25  4183301             1561318       0.3732  \n",
       "2009-11-11  2378.25  2357.21  2242076              512165       0.2284  \n",
       "2009-11-12  2293.65  2323.20  2225929              547072       0.2458  "
      ]
     },
     "execution_count": 25,
     "metadata": {},
     "output_type": "execute_result"
    }
   ],
   "source": [
    "stockdf.head(3)"
   ]
  },
  {
   "cell_type": "code",
   "execution_count": 26,
   "id": "196bfbc6",
   "metadata": {},
   "outputs": [
    {
     "data": {
      "text/html": [
       "<div>\n",
       "<style scoped>\n",
       "    .dataframe tbody tr th:only-of-type {\n",
       "        vertical-align: middle;\n",
       "    }\n",
       "\n",
       "    .dataframe tbody tr th {\n",
       "        vertical-align: top;\n",
       "    }\n",
       "\n",
       "    .dataframe thead th {\n",
       "        text-align: right;\n",
       "    }\n",
       "</style>\n",
       "<table border=\"1\" class=\"dataframe\">\n",
       "  <thead>\n",
       "    <tr style=\"text-align: right;\">\n",
       "      <th></th>\n",
       "      <th>Prev Close</th>\n",
       "      <th>Open</th>\n",
       "      <th>High</th>\n",
       "      <th>Low</th>\n",
       "      <th>Last</th>\n",
       "      <th>Close</th>\n",
       "      <th>VWAP</th>\n",
       "      <th>Volume</th>\n",
       "      <th>Deliverable Volume</th>\n",
       "      <th>%Deliverble</th>\n",
       "    </tr>\n",
       "  </thead>\n",
       "  <tbody>\n",
       "    <tr>\n",
       "      <th>count</th>\n",
       "      <td>2980.000000</td>\n",
       "      <td>2980.000000</td>\n",
       "      <td>2980.000000</td>\n",
       "      <td>2980.000000</td>\n",
       "      <td>2980.000000</td>\n",
       "      <td>2980.000000</td>\n",
       "      <td>2980.000000</td>\n",
       "      <td>2.980000e+03</td>\n",
       "      <td>2.980000e+03</td>\n",
       "      <td>2980.000000</td>\n",
       "    </tr>\n",
       "    <tr>\n",
       "      <th>mean</th>\n",
       "      <td>1099.293624</td>\n",
       "      <td>1100.004681</td>\n",
       "      <td>1114.216074</td>\n",
       "      <td>1084.587164</td>\n",
       "      <td>1098.475134</td>\n",
       "      <td>1098.697701</td>\n",
       "      <td>1099.639470</td>\n",
       "      <td>1.745760e+07</td>\n",
       "      <td>4.934078e+06</td>\n",
       "      <td>0.312659</td>\n",
       "    </tr>\n",
       "    <tr>\n",
       "      <th>std</th>\n",
       "      <td>994.368783</td>\n",
       "      <td>995.164620</td>\n",
       "      <td>1007.666170</td>\n",
       "      <td>981.826959</td>\n",
       "      <td>993.850234</td>\n",
       "      <td>994.188069</td>\n",
       "      <td>994.962097</td>\n",
       "      <td>2.243758e+07</td>\n",
       "      <td>6.000287e+06</td>\n",
       "      <td>0.102485</td>\n",
       "    </tr>\n",
       "    <tr>\n",
       "      <th>min</th>\n",
       "      <td>150.850000</td>\n",
       "      <td>151.950000</td>\n",
       "      <td>153.200000</td>\n",
       "      <td>148.250000</td>\n",
       "      <td>151.100000</td>\n",
       "      <td>150.850000</td>\n",
       "      <td>151.820000</td>\n",
       "      <td>8.841100e+04</td>\n",
       "      <td>1.799700e+04</td>\n",
       "      <td>0.083700</td>\n",
       "    </tr>\n",
       "    <tr>\n",
       "      <th>25%</th>\n",
       "      <td>268.537500</td>\n",
       "      <td>268.900000</td>\n",
       "      <td>272.000000</td>\n",
       "      <td>265.637500</td>\n",
       "      <td>268.787500</td>\n",
       "      <td>268.537500</td>\n",
       "      <td>268.857500</td>\n",
       "      <td>2.139100e+06</td>\n",
       "      <td>6.758570e+05</td>\n",
       "      <td>0.236000</td>\n",
       "    </tr>\n",
       "    <tr>\n",
       "      <th>50%</th>\n",
       "      <td>338.175000</td>\n",
       "      <td>338.450000</td>\n",
       "      <td>344.175000</td>\n",
       "      <td>333.450000</td>\n",
       "      <td>338.400000</td>\n",
       "      <td>338.175000</td>\n",
       "      <td>338.900000</td>\n",
       "      <td>1.143174e+07</td>\n",
       "      <td>3.495674e+06</td>\n",
       "      <td>0.303700</td>\n",
       "    </tr>\n",
       "    <tr>\n",
       "      <th>75%</th>\n",
       "      <td>2119.625000</td>\n",
       "      <td>2124.962500</td>\n",
       "      <td>2150.875000</td>\n",
       "      <td>2095.012500</td>\n",
       "      <td>2117.450000</td>\n",
       "      <td>2117.950000</td>\n",
       "      <td>2125.600000</td>\n",
       "      <td>2.259668e+07</td>\n",
       "      <td>7.097378e+06</td>\n",
       "      <td>0.381325</td>\n",
       "    </tr>\n",
       "    <tr>\n",
       "      <th>max</th>\n",
       "      <td>3489.950000</td>\n",
       "      <td>3505.000000</td>\n",
       "      <td>3515.000000</td>\n",
       "      <td>3451.350000</td>\n",
       "      <td>3499.000000</td>\n",
       "      <td>3489.950000</td>\n",
       "      <td>3485.250000</td>\n",
       "      <td>2.626771e+08</td>\n",
       "      <td>1.333311e+08</td>\n",
       "      <td>0.716200</td>\n",
       "    </tr>\n",
       "  </tbody>\n",
       "</table>\n",
       "</div>"
      ],
      "text/plain": [
       "        Prev Close         Open         High          Low         Last  \\\n",
       "count  2980.000000  2980.000000  2980.000000  2980.000000  2980.000000   \n",
       "mean   1099.293624  1100.004681  1114.216074  1084.587164  1098.475134   \n",
       "std     994.368783   995.164620  1007.666170   981.826959   993.850234   \n",
       "min     150.850000   151.950000   153.200000   148.250000   151.100000   \n",
       "25%     268.537500   268.900000   272.000000   265.637500   268.787500   \n",
       "50%     338.175000   338.450000   344.175000   333.450000   338.400000   \n",
       "75%    2119.625000  2124.962500  2150.875000  2095.012500  2117.450000   \n",
       "max    3489.950000  3505.000000  3515.000000  3451.350000  3499.000000   \n",
       "\n",
       "             Close         VWAP        Volume  Deliverable Volume  %Deliverble  \n",
       "count  2980.000000  2980.000000  2.980000e+03        2.980000e+03  2980.000000  \n",
       "mean   1098.697701  1099.639470  1.745760e+07        4.934078e+06     0.312659  \n",
       "std     994.188069   994.962097  2.243758e+07        6.000287e+06     0.102485  \n",
       "min     150.850000   151.820000  8.841100e+04        1.799700e+04     0.083700  \n",
       "25%     268.537500   268.857500  2.139100e+06        6.758570e+05     0.236000  \n",
       "50%     338.175000   338.900000  1.143174e+07        3.495674e+06     0.303700  \n",
       "75%    2117.950000  2125.600000  2.259668e+07        7.097378e+06     0.381325  \n",
       "max    3489.950000  3485.250000  2.626771e+08        1.333311e+08     0.716200  "
      ]
     },
     "execution_count": 26,
     "metadata": {},
     "output_type": "execute_result"
    }
   ],
   "source": [
    "stockdf.describe() # result shows that the stock data is not adjusted for a 1:10 split\n"
   ]
  },
  {
   "cell_type": "code",
   "execution_count": 27,
   "id": "0bf54eda",
   "metadata": {},
   "outputs": [],
   "source": [
    "#Adjusting stock closing prices for splits of 1:10\n",
    "stockdf['Close'] = stockdf['Close'].apply(lambda x:x/10 if x>1000 else x)"
   ]
  },
  {
   "cell_type": "code",
   "execution_count": 28,
   "id": "71d2d774",
   "metadata": {},
   "outputs": [],
   "source": [
    "# Forming a 2-d array of closing prices to be fed into RNN\n",
    "# We take the last 20 day prices in the test data (corresponding roughly to 1 calendar month)\n",
    "trend_test_days = 20\n",
    "training_set = stockdf.iloc[:len(stockdf)-trend_test_days,7:8].values\n"
   ]
  },
  {
   "cell_type": "code",
   "execution_count": 29,
   "id": "67e56714",
   "metadata": {},
   "outputs": [
    {
     "data": {
      "text/plain": [
       "(array([[236.89 ],\n",
       "        [237.825],\n",
       "        [229.365],\n",
       "        ...,\n",
       "        [457.2  ],\n",
       "        [457.9  ],\n",
       "        [458.   ]]),\n",
       " 2960)"
      ]
     },
     "execution_count": 29,
     "metadata": {},
     "output_type": "execute_result"
    }
   ],
   "source": [
    "training_set, len(training_set)\n"
   ]
  },
  {
   "cell_type": "code",
   "execution_count": 30,
   "id": "a3080bed",
   "metadata": {},
   "outputs": [],
   "source": [
    "# Using normalisation to scale data, as RNN uses distance between data points to train \n",
    "from sklearn.preprocessing import MinMaxScaler\n",
    "scaler = MinMaxScaler(feature_range = (0,1))\n",
    "training_set_scaled = scaler.fit_transform(training_set)"
   ]
  },
  {
   "cell_type": "code",
   "execution_count": 31,
   "id": "8b9bb981",
   "metadata": {},
   "outputs": [],
   "source": [
    "# The recurrent neural network with long short term memory (LSTM) will use a timestep of 120 trading days as memory\n",
    "# Creating the data structure which preserves 120 days of memory\n",
    "X_train = [] #initiate training lists\n",
    "y_train = []\n",
    "memory_range = 120\n",
    "for i in range(memory_range, len(training_set_scaled)):\n",
    "    X_train.append(training_set_scaled[(i - memory_range):i,0])\n",
    "    y_train.append(training_set_scaled[i,0])\n",
    "\n",
    "#Convert the lists to numpy arrays\n",
    "X_train, y_train = np.array(X_train), np.array(y_train)"
   ]
  },
  {
   "cell_type": "code",
   "execution_count": 32,
   "id": "ce81710c",
   "metadata": {},
   "outputs": [
    {
     "data": {
      "text/plain": [
       "((2840, 120), (2840,))"
      ]
     },
     "execution_count": 32,
     "metadata": {},
     "output_type": "execute_result"
    }
   ],
   "source": [
    "X_train.shape, y_train.shape"
   ]
  },
  {
   "cell_type": "code",
   "execution_count": 33,
   "id": "2681e12a",
   "metadata": {},
   "outputs": [
    {
     "data": {
      "text/plain": [
       "(2840, 120, 1)"
      ]
     },
     "execution_count": 33,
     "metadata": {},
     "output_type": "execute_result"
    }
   ],
   "source": [
    "# reshape the x_train array to fit the shape expected by RNN algorithm\n",
    "X_train = np.reshape(X_train, (X_train.shape[0], X_train.shape[1], 1))\n",
    "X_train.shape"
   ]
  },
  {
   "cell_type": "code",
   "execution_count": 34,
   "id": "c3ff08e3",
   "metadata": {},
   "outputs": [],
   "source": [
    "# Importing the RNN libraries and classes\n",
    "from keras.models import Sequential\n",
    "from keras.layers import Dense\n",
    "from keras.layers import LSTM\n",
    "from keras.layers import Dropout"
   ]
  },
  {
   "cell_type": "code",
   "execution_count": 35,
   "id": "55bd0842",
   "metadata": {},
   "outputs": [],
   "source": [
    "#Initialise the regressor object of class Sequential\n",
    "regressor = Sequential()"
   ]
  },
  {
   "cell_type": "code",
   "execution_count": 36,
   "id": "323800a3",
   "metadata": {},
   "outputs": [],
   "source": [
    "#Building the RNN architecture with dropout regularisation\n",
    "regressor.add(LSTM(units = 50, activation = 'tanh', return_sequences = True, input_shape = (X_train.shape[1],1)))\n",
    "regressor.add(Dropout(0.2))\n",
    "regressor.add(LSTM(units = 50, activation = 'tanh', return_sequences = True))\n",
    "regressor.add(Dropout(0.2))\n",
    "regressor.add(LSTM(units = 50, activation = 'tanh', return_sequences = True))\n",
    "regressor.add(Dropout(0.2))\n",
    "regressor.add(LSTM(units = 50, activation = 'tanh', return_sequences = False)) # last LSTM layer should have return sequence as False\n",
    "regressor.add(Dropout(0.2))\n",
    "#Adding the output layer\n",
    "regressor.add(Dense(units = 1))"
   ]
  },
  {
   "cell_type": "code",
   "execution_count": 37,
   "id": "e8d31e86",
   "metadata": {},
   "outputs": [],
   "source": [
    "#Compile the recurrent neural network\n",
    "regressor.compile(optimizer = 'adam', loss = 'mean_squared_error')"
   ]
  },
  {
   "cell_type": "code",
   "execution_count": 38,
   "id": "d43ca8bb",
   "metadata": {},
   "outputs": [
    {
     "name": "stdout",
     "output_type": "stream",
     "text": [
      "Epoch 1/100\n",
      "89/89 [==============================] - 17s 138ms/step - loss: 0.0130\n",
      "Epoch 2/100\n",
      "89/89 [==============================] - 10s 111ms/step - loss: 0.0049\n",
      "Epoch 3/100\n",
      "89/89 [==============================] - 10s 109ms/step - loss: 0.0043\n",
      "Epoch 4/100\n",
      "89/89 [==============================] - 10s 108ms/step - loss: 0.0035\n",
      "Epoch 5/100\n",
      "89/89 [==============================] - 10s 113ms/step - loss: 0.0034\n",
      "Epoch 6/100\n",
      "89/89 [==============================] - 10s 107ms/step - loss: 0.0030\n",
      "Epoch 7/100\n",
      "89/89 [==============================] - 10s 107ms/step - loss: 0.0027\n",
      "Epoch 8/100\n",
      "89/89 [==============================] - 9s 105ms/step - loss: 0.0027\n",
      "Epoch 9/100\n",
      "89/89 [==============================] - 10s 107ms/step - loss: 0.0024\n",
      "Epoch 10/100\n",
      "89/89 [==============================] - 10s 111ms/step - loss: 0.0021\n",
      "Epoch 11/100\n",
      "89/89 [==============================] - 10s 109ms/step - loss: 0.0023\n",
      "Epoch 12/100\n",
      "89/89 [==============================] - 11s 120ms/step - loss: 0.0021\n",
      "Epoch 13/100\n",
      "89/89 [==============================] - 11s 118ms/step - loss: 0.0019\n",
      "Epoch 14/100\n",
      "89/89 [==============================] - 10s 113ms/step - loss: 0.0018\n",
      "Epoch 15/100\n",
      "89/89 [==============================] - 9s 104ms/step - loss: 0.0019\n",
      "Epoch 16/100\n",
      "89/89 [==============================] - 9s 100ms/step - loss: 0.0018\n",
      "Epoch 17/100\n",
      "89/89 [==============================] - 10s 111ms/step - loss: 0.0017\n",
      "Epoch 18/100\n",
      "89/89 [==============================] - 9s 107ms/step - loss: 0.0016\n",
      "Epoch 19/100\n",
      "89/89 [==============================] - 10s 110ms/step - loss: 0.0015\n",
      "Epoch 20/100\n",
      "89/89 [==============================] - 10s 112ms/step - loss: 0.0015\n",
      "Epoch 21/100\n",
      "89/89 [==============================] - 9s 104ms/step - loss: 0.0015\n",
      "Epoch 22/100\n",
      "89/89 [==============================] - 10s 118ms/step - loss: 0.0014\n",
      "Epoch 23/100\n",
      "89/89 [==============================] - 9s 105ms/step - loss: 0.0013\n",
      "Epoch 24/100\n",
      "89/89 [==============================] - 10s 109ms/step - loss: 0.0014\n",
      "Epoch 25/100\n",
      "89/89 [==============================] - 10s 110ms/step - loss: 0.0013\n",
      "Epoch 26/100\n",
      "89/89 [==============================] - 10s 112ms/step - loss: 0.0012\n",
      "Epoch 27/100\n",
      "89/89 [==============================] - 10s 117ms/step - loss: 0.0012\n",
      "Epoch 28/100\n",
      "89/89 [==============================] - 11s 120ms/step - loss: 0.0011\n",
      "Epoch 29/100\n",
      "89/89 [==============================] - 12s 130ms/step - loss: 0.0011\n",
      "Epoch 30/100\n",
      "89/89 [==============================] - 10s 114ms/step - loss: 0.0011\n",
      "Epoch 31/100\n",
      "89/89 [==============================] - 11s 128ms/step - loss: 0.0012\n",
      "Epoch 32/100\n",
      "89/89 [==============================] - 10s 110ms/step - loss: 0.0010\n",
      "Epoch 33/100\n",
      "89/89 [==============================] - 11s 129ms/step - loss: 0.0012\n",
      "Epoch 34/100\n",
      "89/89 [==============================] - 11s 129ms/step - loss: 0.0011\n",
      "Epoch 35/100\n",
      "89/89 [==============================] - 13s 142ms/step - loss: 0.0010\n",
      "Epoch 36/100\n",
      "89/89 [==============================] - 11s 126ms/step - loss: 9.9467e-04\n",
      "Epoch 37/100\n",
      "89/89 [==============================] - 10s 113ms/step - loss: 0.0010\n",
      "Epoch 38/100\n",
      "89/89 [==============================] - 10s 108ms/step - loss: 0.0011\n",
      "Epoch 39/100\n",
      "89/89 [==============================] - 9s 101ms/step - loss: 9.3720e-04\n",
      "Epoch 40/100\n",
      "89/89 [==============================] - 10s 109ms/step - loss: 9.2228e-04\n",
      "Epoch 41/100\n",
      "89/89 [==============================] - 9s 106ms/step - loss: 9.5216e-04\n",
      "Epoch 42/100\n",
      "89/89 [==============================] - 10s 114ms/step - loss: 8.8692e-04\n",
      "Epoch 43/100\n",
      "89/89 [==============================] - 10s 109ms/step - loss: 8.9327e-04\n",
      "Epoch 44/100\n",
      "89/89 [==============================] - 9s 105ms/step - loss: 8.9752e-04\n",
      "Epoch 45/100\n",
      "89/89 [==============================] - 9s 101ms/step - loss: 9.7832e-04\n",
      "Epoch 46/100\n",
      "89/89 [==============================] - 8s 93ms/step - loss: 8.6819e-04\n",
      "Epoch 47/100\n",
      "89/89 [==============================] - 8s 90ms/step - loss: 9.5565e-04\n",
      "Epoch 48/100\n",
      "89/89 [==============================] - 8s 90ms/step - loss: 8.0544e-04\n",
      "Epoch 49/100\n",
      "89/89 [==============================] - 8s 89ms/step - loss: 9.3718e-04\n",
      "Epoch 50/100\n",
      "89/89 [==============================] - 8s 90ms/step - loss: 8.4845e-04\n",
      "Epoch 51/100\n",
      "89/89 [==============================] - 8s 90ms/step - loss: 7.8484e-04\n",
      "Epoch 52/100\n",
      "89/89 [==============================] - 8s 90ms/step - loss: 8.4624e-04\n",
      "Epoch 53/100\n",
      "89/89 [==============================] - 8s 90ms/step - loss: 7.7017e-04\n",
      "Epoch 54/100\n",
      "89/89 [==============================] - 8s 90ms/step - loss: 8.5991e-04\n",
      "Epoch 55/100\n",
      "89/89 [==============================] - 8s 91ms/step - loss: 8.2170e-04\n",
      "Epoch 56/100\n",
      "89/89 [==============================] - 8s 90ms/step - loss: 7.8220e-04\n",
      "Epoch 57/100\n",
      "89/89 [==============================] - 8s 89ms/step - loss: 7.8720e-04\n",
      "Epoch 58/100\n",
      "89/89 [==============================] - 8s 89ms/step - loss: 8.0113e-04\n",
      "Epoch 59/100\n",
      "89/89 [==============================] - 8s 89ms/step - loss: 7.7749e-04\n",
      "Epoch 60/100\n",
      "89/89 [==============================] - 8s 89ms/step - loss: 8.0650e-04\n",
      "Epoch 61/100\n",
      "89/89 [==============================] - 8s 89ms/step - loss: 7.9789e-04\n",
      "Epoch 62/100\n",
      "89/89 [==============================] - 8s 89ms/step - loss: 7.9315e-04\n",
      "Epoch 63/100\n",
      "89/89 [==============================] - 8s 90ms/step - loss: 8.7944e-04\n",
      "Epoch 64/100\n",
      "89/89 [==============================] - 8s 90ms/step - loss: 7.5616e-04\n",
      "Epoch 65/100\n",
      "89/89 [==============================] - 8s 89ms/step - loss: 7.6876e-04\n",
      "Epoch 66/100\n",
      "89/89 [==============================] - 8s 89ms/step - loss: 7.9061e-04\n",
      "Epoch 67/100\n",
      "89/89 [==============================] - 8s 89ms/step - loss: 8.7348e-04\n",
      "Epoch 68/100\n",
      "89/89 [==============================] - 8s 89ms/step - loss: 7.8608e-04\n",
      "Epoch 69/100\n",
      "89/89 [==============================] - 8s 89ms/step - loss: 8.4268e-04\n",
      "Epoch 70/100\n",
      "89/89 [==============================] - 8s 89ms/step - loss: 7.4931e-04\n",
      "Epoch 71/100\n",
      "89/89 [==============================] - 8s 89ms/step - loss: 8.3995e-04\n",
      "Epoch 72/100\n",
      "89/89 [==============================] - 8s 88ms/step - loss: 8.2976e-04\n",
      "Epoch 73/100\n",
      "89/89 [==============================] - 8s 89ms/step - loss: 7.7947e-04\n",
      "Epoch 74/100\n",
      "89/89 [==============================] - 8s 90ms/step - loss: 7.6971e-04\n",
      "Epoch 75/100\n",
      "89/89 [==============================] - 8s 90ms/step - loss: 7.4076e-04\n",
      "Epoch 76/100\n",
      "89/89 [==============================] - 8s 91ms/step - loss: 7.9999e-04\n",
      "Epoch 77/100\n",
      "89/89 [==============================] - 8s 92ms/step - loss: 7.6740e-04\n",
      "Epoch 78/100\n",
      "89/89 [==============================] - 8s 89ms/step - loss: 7.2199e-04\n",
      "Epoch 79/100\n",
      "89/89 [==============================] - 8s 90ms/step - loss: 7.4892e-04\n",
      "Epoch 80/100\n",
      "89/89 [==============================] - 8s 89ms/step - loss: 6.9888e-04\n",
      "Epoch 81/100\n",
      "89/89 [==============================] - 8s 89ms/step - loss: 7.3706e-04\n",
      "Epoch 82/100\n",
      "89/89 [==============================] - 8s 89ms/step - loss: 7.3801e-04\n",
      "Epoch 83/100\n",
      "89/89 [==============================] - 8s 90ms/step - loss: 7.9277e-04\n",
      "Epoch 84/100\n",
      "89/89 [==============================] - 8s 90ms/step - loss: 7.4844e-04\n",
      "Epoch 85/100\n",
      "89/89 [==============================] - 8s 89ms/step - loss: 7.8330e-04\n",
      "Epoch 86/100\n",
      "89/89 [==============================] - 8s 89ms/step - loss: 7.7007e-04\n",
      "Epoch 87/100\n",
      "89/89 [==============================] - 8s 90ms/step - loss: 7.1639e-04\n",
      "Epoch 88/100\n",
      "89/89 [==============================] - 8s 90ms/step - loss: 7.0335e-04\n",
      "Epoch 89/100\n",
      "89/89 [==============================] - 8s 90ms/step - loss: 7.7821e-04\n",
      "Epoch 90/100\n",
      "89/89 [==============================] - 8s 90ms/step - loss: 7.1271e-04\n",
      "Epoch 91/100\n",
      "89/89 [==============================] - 8s 90ms/step - loss: 7.5961e-04\n",
      "Epoch 92/100\n",
      "89/89 [==============================] - 8s 89ms/step - loss: 8.1491e-04\n",
      "Epoch 93/100\n",
      "89/89 [==============================] - 8s 89ms/step - loss: 7.5922e-04\n",
      "Epoch 94/100\n",
      "89/89 [==============================] - 8s 90ms/step - loss: 7.2493e-04\n",
      "Epoch 95/100\n",
      "89/89 [==============================] - 8s 89ms/step - loss: 6.9098e-04\n",
      "Epoch 96/100\n",
      "89/89 [==============================] - 8s 89ms/step - loss: 7.3475e-04\n",
      "Epoch 97/100\n"
     ]
    },
    {
     "name": "stdout",
     "output_type": "stream",
     "text": [
      "89/89 [==============================] - 8s 88ms/step - loss: 7.3337e-04\n",
      "Epoch 98/100\n",
      "89/89 [==============================] - 8s 89ms/step - loss: 7.4403e-04\n",
      "Epoch 99/100\n",
      "89/89 [==============================] - 8s 89ms/step - loss: 8.4067e-04\n",
      "Epoch 100/100\n",
      "89/89 [==============================] - 8s 89ms/step - loss: 6.7824e-04\n"
     ]
    },
    {
     "data": {
      "text/plain": [
       "<keras.callbacks.History at 0x23bceabdd60>"
      ]
     },
     "execution_count": 38,
     "metadata": {},
     "output_type": "execute_result"
    }
   ],
   "source": [
    "#Fitting the RNN model on training data\n",
    "regressor.fit(X_train, y_train, batch_size = 32, epochs = 100)"
   ]
  },
  {
   "cell_type": "code",
   "execution_count": 39,
   "id": "4c6579ca",
   "metadata": {},
   "outputs": [
    {
     "data": {
      "text/plain": [
       "(140, 1)"
      ]
     },
     "execution_count": 39,
     "metadata": {},
     "output_type": "execute_result"
    }
   ],
   "source": [
    "test_set = stockdf.iloc[len(stockdf) - memory_range - trend_test_days:,7:8].values\n",
    "test_set = scaler.transform(test_set)\n",
    "test_set.shape"
   ]
  },
  {
   "cell_type": "code",
   "execution_count": 40,
   "id": "9a0e20dc",
   "metadata": {},
   "outputs": [],
   "source": [
    "# preparing the test input data structure\n",
    "X_test = []\n",
    "for i in range(memory_range, memory_range + trend_test_days):\n",
    "    X_test.append(test_set[i - memory_range:i, 0])\n",
    "X_test = np.array(X_test)"
   ]
  },
  {
   "cell_type": "code",
   "execution_count": 41,
   "id": "f4cc1cdc",
   "metadata": {},
   "outputs": [
    {
     "data": {
      "text/plain": [
       "(20, 120, 1)"
      ]
     },
     "execution_count": 41,
     "metadata": {},
     "output_type": "execute_result"
    }
   ],
   "source": [
    "X_test = np.reshape(X_test,(X_test.shape[0],X_test.shape[1],1))\n",
    "X_test.shape"
   ]
  },
  {
   "cell_type": "code",
   "execution_count": 42,
   "id": "17e70f24",
   "metadata": {},
   "outputs": [],
   "source": [
    "# Predict stock prices for the last 20 days\n",
    "predicted_stock_prices = regressor.predict(X_test)\n",
    "predicted_stock_prices = scaler.inverse_transform(predicted_stock_prices)"
   ]
  },
  {
   "cell_type": "code",
   "execution_count": 43,
   "id": "cb6107e6",
   "metadata": {},
   "outputs": [
    {
     "data": {
      "text/plain": [
       "((20, 1), (20, 1))"
      ]
     },
     "execution_count": 43,
     "metadata": {},
     "output_type": "execute_result"
    }
   ],
   "source": [
    "# Get actual stock prices for comparison of trend prediction\n",
    "actual_stock_prices = stockdf.iloc[len(stockdf) - trend_test_days:,7:8].values\n",
    "actual_stock_prices.shape, predicted_stock_prices.shape"
   ]
  },
  {
   "cell_type": "code",
   "execution_count": 44,
   "id": "bc12f5c5",
   "metadata": {},
   "outputs": [],
   "source": [
    "# Get data in dataframe format with added accuracy measures\n",
    "final_stock_pred = pd.DataFrame(data = actual_stock_prices, columns = ['actual_stock_prices'])\n",
    "final_stock_pred = pd.concat((final_stock_pred, pd.DataFrame(data = predicted_stock_prices, columns = ['predicted_stock_prices'])), axis=1)"
   ]
  },
  {
   "cell_type": "code",
   "execution_count": 45,
   "id": "df8c721b",
   "metadata": {},
   "outputs": [
    {
     "name": "stderr",
     "output_type": "stream",
     "text": [
      "<ipython-input-45-7d46325dd514>:5: SettingWithCopyWarning: \n",
      "A value is trying to be set on a copy of a slice from a DataFrame\n",
      "\n",
      "See the caveats in the documentation: https://pandas.pydata.org/pandas-docs/stable/user_guide/indexing.html#returning-a-view-versus-a-copy\n",
      "  final_stock_pred['actual_change'][i+1] = ((final_stock_pred['actual_stock_prices'][i+1]) - (final_stock_pred['actual_stock_prices'][i]))/final_stock_pred['actual_stock_prices'].mean()\n",
      "<ipython-input-45-7d46325dd514>:6: SettingWithCopyWarning: \n",
      "A value is trying to be set on a copy of a slice from a DataFrame\n",
      "\n",
      "See the caveats in the documentation: https://pandas.pydata.org/pandas-docs/stable/user_guide/indexing.html#returning-a-view-versus-a-copy\n",
      "  final_stock_pred['predicted_change'][i+1] = ((final_stock_pred['predicted_stock_prices'][i+1]) - (final_stock_pred['predicted_stock_prices'][i]))/final_stock_pred['predicted_stock_prices'].mean()\n"
     ]
    }
   ],
   "source": [
    "final_stock_pred['actual_change'] = np.zeros(len(final_stock_pred))\n",
    "final_stock_pred['predicted_change'] = np.zeros(len(final_stock_pred)) \n",
    "\n",
    "for i in range(0,len(final_stock_pred)-1):\n",
    "    final_stock_pred['actual_change'][i+1] = ((final_stock_pred['actual_stock_prices'][i+1]) - (final_stock_pred['actual_stock_prices'][i]))/final_stock_pred['actual_stock_prices'].mean()\n",
    "    final_stock_pred['predicted_change'][i+1] = ((final_stock_pred['predicted_stock_prices'][i+1]) - (final_stock_pred['predicted_stock_prices'][i]))/final_stock_pred['predicted_stock_prices'].mean()\n",
    "    final_stock_pred['pred_accuracy'] = final_stock_pred['actual_change'] - final_stock_pred['predicted_change']\n",
    "\n",
    "final_stock_pred['actual_change'] = (final_stock_pred['actual_change']*100).round(2)\n",
    "final_stock_pred['predicted_change'] = (final_stock_pred['predicted_change']*100).round(2)\n",
    "final_stock_pred['pred_accuracy'] = (final_stock_pred['pred_accuracy']*100).round(2)"
   ]
  },
  {
   "cell_type": "code",
   "execution_count": 46,
   "id": "d10e15b2",
   "metadata": {},
   "outputs": [
    {
     "name": "stdout",
     "output_type": "stream",
     "text": [
      "    actual_stock_prices  predicted_stock_prices  actual_change  \\\n",
      "0                469.25              467.574402           0.00   \n",
      "1                483.00              474.313416           2.72   \n",
      "2                481.70              482.844147          -0.26   \n",
      "3                490.60              484.329498           1.76   \n",
      "4                497.95              491.807495           1.45   \n",
      "5                488.20              497.539856          -1.93   \n",
      "6                499.90              494.901520           2.32   \n",
      "7                502.95              502.161316           0.60   \n",
      "8                502.95              504.322937           0.00   \n",
      "9                506.50              505.983704           0.70   \n",
      "10               512.55              508.884247           1.20   \n",
      "11               519.15              512.570374           1.31   \n",
      "12               501.35              516.810974          -3.52   \n",
      "13               502.15              510.482727           0.16   \n",
      "14               515.70              510.739655           2.68   \n",
      "15               521.70              515.526611           1.19   \n",
      "16               527.65              518.539551           1.18   \n",
      "17               530.45              522.829285           0.55   \n",
      "18               523.25              525.974670          -1.42   \n",
      "19               529.15              524.983398           1.17   \n",
      "\n",
      "    predicted_change  pred_accuracy  %_price_diff  \n",
      "0               0.00           0.00          0.33  \n",
      "1               1.34           1.38          1.72  \n",
      "2               1.69          -1.95         -0.23  \n",
      "3               0.29           1.47          1.24  \n",
      "4               1.48          -0.03          1.22  \n",
      "5               1.14          -3.07         -1.85  \n",
      "6              -0.52           2.84          0.99  \n",
      "7               1.44          -0.84          0.16  \n",
      "8               0.43          -0.43         -0.27  \n",
      "9               0.33           0.37          0.10  \n",
      "10              0.58           0.62          0.73  \n",
      "11              0.73           0.57          1.30  \n",
      "12              0.84          -4.36         -3.06  \n",
      "13             -1.26           1.41         -1.65  \n",
      "14              0.05           2.63          0.98  \n",
      "15              0.95           0.24          1.22  \n",
      "16              0.60           0.58          1.80  \n",
      "17              0.85          -0.30          1.51  \n",
      "18              0.62          -2.05         -0.54  \n",
      "19             -0.20           1.36          0.82  \n",
      "Average Prediction Accuracy:  1.39 %\n",
      "Average Price Difference between Actual & Predicted:  1.14 %\n"
     ]
    }
   ],
   "source": [
    "final_stock_pred['%_price_diff'] = (((final_stock_pred['actual_stock_prices']-final_stock_pred['predicted_stock_prices'])/final_stock_pred['actual_stock_prices'].mean())*100).round(2)\n",
    "print(final_stock_pred)\n",
    "print('Average Prediction Accuracy: ',(final_stock_pred['pred_accuracy'].abs().sum()/(len(final_stock_pred)-1)).round(2),'%')\n",
    "print('Average Price Difference between Actual & Predicted: ',(final_stock_pred['%_price_diff'].abs().sum()/(len(final_stock_pred)-1)).round(2),'%')"
   ]
  },
  {
   "cell_type": "code",
   "execution_count": 47,
   "id": "41408b63",
   "metadata": {},
   "outputs": [
    {
     "data": {
      "image/png": "[encoded data removed]",
      "text/plain": [
       "<Figure size 432x288 with 1 Axes>"
      ]
     },
     "metadata": {
      "needs_background": "light"
     },
     "output_type": "display_data"
    }
   ],
   "source": [
    "plt.plot(final_stock_pred['actual_stock_prices'], color = 'red', label = 'Actual Stock Price')\n",
    "plt.plot(final_stock_pred['predicted_stock_prices'], color = 'blue', label = 'Predicted Stock Price')\n",
    "plt.title('Stock Price Prediction / Stock Trend Prediction')\n",
    "plt.xlabel('Time Axis')\n",
    "plt.ylabel('Stock Price')\n",
    "plt.legend()\n",
    "plt.show()"
   ]
  },
  {
   "cell_type": "code",
   "execution_count": null,
   "id": "b68c2241",
   "metadata": {},
   "outputs": [],
   "source": []
  }
 ],
 "metadata": {
  "kernelspec": {
   "display_name": "Python 3",
   "language": "python",
   "name": "python3"
  },
  "language_info": {
   "codemirror_mode": {
    "name": "ipython",
    "version": 3
   },
   "file_extension": ".py",
   "mimetype": "text/x-python",
   "name": "python",
   "nbconvert_exporter": "python",
   "pygments_lexer": "ipython3",
   "version": "3.8.8"
  }
 },
 "nbformat": 4,
 "nbformat_minor": 5
}
